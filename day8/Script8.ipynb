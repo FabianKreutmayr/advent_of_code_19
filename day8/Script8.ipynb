{
 "cells": [
  {
   "cell_type": "markdown",
   "metadata": {},
   "source": [
    "# Puzzle 1: Calculate number of 1s times number of 2s"
   ]
  },
  {
   "cell_type": "markdown",
   "metadata": {},
   "source": [
    "### find layer that contains the least number of 0s; images are 25x6"
   ]
  },
  {
   "cell_type": "code",
   "execution_count": 1,
   "metadata": {},
   "outputs": [],
   "source": [
    "import numpy as np"
   ]
  },
  {
   "cell_type": "markdown",
   "metadata": {},
   "source": [
    "## Load input"
   ]
  },
  {
   "cell_type": "code",
   "execution_count": 6,
   "metadata": {},
   "outputs": [],
   "source": [
    "with open('./input8.txt', 'r') as file:\n",
    "\n",
    "    data = file.readlines()"
   ]
  },
  {
   "cell_type": "code",
   "execution_count": 10,
   "metadata": {},
   "outputs": [],
   "source": [
    "data = data[0]"
   ]
  },
  {
   "cell_type": "markdown",
   "metadata": {},
   "source": [
    "#### get number of layers"
   ]
  },
  {
   "cell_type": "code",
   "execution_count": 12,
   "metadata": {},
   "outputs": [],
   "source": [
    "width = 25\n",
    "height = 6"
   ]
  },
  {
   "cell_type": "code",
   "execution_count": 18,
   "metadata": {},
   "outputs": [
    {
     "name": "stdout",
     "output_type": "stream",
     "text": [
      "Each layer consists of 150 pixels.\n",
      "The number of layers is 100\n"
     ]
    }
   ],
   "source": [
    "size = int(width*height)\n",
    "layers = int(len(data)/size)\n",
    "print('Each layer consists of {0} pixels.'.format(size))\n",
    "print('The number of layers is {0}'.format(layers))"
   ]
  },
  {
   "cell_type": "markdown",
   "metadata": {
    "scrolled": true
   },
   "source": [
    "#### split data in layers"
   ]
  },
  {
   "cell_type": "code",
   "execution_count": 23,
   "metadata": {},
   "outputs": [],
   "source": [
    "image_dict = dict()\n",
    "for i in range(0, layers):\n",
    "    image_dict['{0}'.format(i)] = data[size*i:size*(i+1)]"
   ]
  },
  {
   "cell_type": "markdown",
   "metadata": {},
   "source": [
    "#### get the layer containing the least number of 0s"
   ]
  },
  {
   "cell_type": "code",
   "execution_count": 33,
   "metadata": {},
   "outputs": [
    {
     "name": "stdout",
     "output_type": "stream",
     "text": [
      "The layer containing the least number of 0s is 7 with a number of 5 0s.\n"
     ]
    }
   ],
   "source": [
    "least_zeros = size\n",
    "\n",
    "for key in image_dict.keys():\n",
    "    zeros = image_dict[key].count('0')\n",
    "    if zeros < least_zeros:\n",
    "        least_zeros = zeros\n",
    "        least_zero_layer = key\n",
    "\n",
    "print('The layer containing the least number of 0s is {0} with a number of {1} 0s.'.format(least_zero_layer, least_zeros))"
   ]
  },
  {
   "cell_type": "markdown",
   "metadata": {},
   "source": [
    "#### number of 1s times number of 2s"
   ]
  },
  {
   "cell_type": "code",
   "execution_count": 35,
   "metadata": {},
   "outputs": [
    {
     "name": "stdout",
     "output_type": "stream",
     "text": [
      "The result is 1950.\n"
     ]
    }
   ],
   "source": [
    "result = image_dict['{0}'.format(least_zero_layer)].count('1') * image_dict['{0}'.format(least_zero_layer)].count('2')\n",
    "\n",
    "print('The result is {0}.'.format(result))"
   ]
  },
  {
   "cell_type": "markdown",
   "metadata": {},
   "source": [
    "# Puzzle 2: Decode the image"
   ]
  },
  {
   "cell_type": "code",
   "execution_count": 64,
   "metadata": {},
   "outputs": [],
   "source": [
    "image = ['2']*size  # transparent image as base\n",
    "for key in image_dict.keys():\n",
    "    for pixel in range(0, size):\n",
    "        if image[pixel] == '2':\n",
    "            image[pixel] = image_dict[key][pixel]"
   ]
  },
  {
   "cell_type": "code",
   "execution_count": 66,
   "metadata": {},
   "outputs": [],
   "source": [
    "import matplotlib.pyplot as plt"
   ]
  },
  {
   "cell_type": "code",
   "execution_count": 69,
   "metadata": {},
   "outputs": [
    {
     "data": {
      "image/png": "[encoded data removed]",
      "text/plain": [
       "<Figure size 432x288 with 1 Axes>"
      ]
     },
     "metadata": {},
     "output_type": "display_data"
    }
   ],
   "source": [
    "plt.imshow(np.array(image, dtype=float).reshape(6,25))\n",
    "plt.axis('off')\n",
    "plt.show()"
   ]
  },
  {
   "cell_type": "code",
   "execution_count": null,
   "metadata": {},
   "outputs": [],
   "source": []
  }
 ],
 "metadata": {
  "kernelspec": {
   "display_name": "Python 3",
   "language": "python",
   "name": "python3"
  },
  "language_info": {
   "codemirror_mode": {
    "name": "ipython",
    "version": 3
   },
   "file_extension": ".py",
   "mimetype": "text/x-python",
   "name": "python",
   "nbconvert_exporter": "python",
   "pygments_lexer": "ipython3",
   "version": "3.6.4"
  }
 },
 "nbformat": 4,
 "nbformat_minor": 2
}
