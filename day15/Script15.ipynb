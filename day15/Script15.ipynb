{
 "cells": [
  {
   "cell_type": "markdown",
   "metadata": {},
   "source": [
    "# Puzzle 1: Find the oxygen system using a droid and intcode"
   ]
  },
  {
   "cell_type": "markdown",
   "metadata": {},
   "source": [
    "### status: 0 --> wall; 1 --> moved 1 step; 2 --> moved 1 step, found oxygen system; movements: north (1), south (2), west (3), east (4)"
   ]
  },
  {
   "cell_type": "code",
   "execution_count": 1,
   "metadata": {},
   "outputs": [],
   "source": [
    "import numpy as np\n",
    "import matplotlib.pyplot as plt\n",
    "import networkx as nx\n",
    "from copy import deepcopy"
   ]
  },
  {
   "cell_type": "markdown",
   "metadata": {},
   "source": [
    "## Load input"
   ]
  },
  {
   "cell_type": "code",
   "execution_count": 2,
   "metadata": {},
   "outputs": [],
   "source": [
    "with open('./input15.txt', 'r') as file:\n",
    "\n",
    "    software = file.readlines()"
   ]
  },
  {
   "cell_type": "markdown",
   "metadata": {},
   "source": [
    "#### Convert data to list of integers"
   ]
  },
  {
   "cell_type": "code",
   "execution_count": 3,
   "metadata": {},
   "outputs": [],
   "source": [
    "software = list(map(int, software[0].split(',')))"
   ]
  },
  {
   "cell_type": "markdown",
   "metadata": {},
   "source": [
    "## Calculation"
   ]
  },
  {
   "cell_type": "code",
   "execution_count": 4,
   "metadata": {},
   "outputs": [],
   "source": [
    "class intcode_computer(object):\n",
    "    \n",
    "    def __init__(self, data):\n",
    "        \n",
    "        self.data = data\n",
    "        self.data += [0]*100000\n",
    "        self.inputs = []\n",
    "        self.i = 0\n",
    "        self.relative_base = 0\n",
    "        self.done = False\n",
    "\n",
    "    def step(self, input):\n",
    "        self.run = True\n",
    "        self.out = []\n",
    "        input = [input]\n",
    "\n",
    "        while self.run is True:\n",
    "            add = (5-len(str(self.data[self.i])))*'0'\n",
    "            self.data[self.i] = '{0}{1}'.format(add, str(self.data[self.i]))\n",
    "\n",
    "            optcode = self.data[self.i][-2:]\n",
    "            mode1 = self.data[self.i][-3]\n",
    "            mode2 = self.data[self.i][-4]\n",
    "            mode3 = self.data[self.i][-5]\n",
    "\n",
    "            if mode1 == '0' and optcode != '99':\n",
    "                param1 = int(self.data[self.data[self.i+1]])\n",
    "            elif mode1 == '1' and optcode != '99':\n",
    "                param1 = int(self.data[self.i+1])\n",
    "            elif mode1 == '2' and optcode != '99':\n",
    "                param1 = int(self.data[self.data[self.i+1]+self.relative_base])\n",
    "\n",
    "            if optcode == '01':\n",
    "                if mode2 == '0':\n",
    "                    param2 = int(self.data[self.data[self.i+2]])\n",
    "                elif mode2 == '1':\n",
    "                    param2 = int(self.data[self.i+2])\n",
    "                elif mode2 == '2':\n",
    "                    param2 = int(self.data[self.data[self.i+2]+self.relative_base])\n",
    "                    \n",
    "                if mode3 == '0' or mode3 == '1':\n",
    "                    self.data[self.data[self.i+3]] = param1 + param2\n",
    "                elif mode3 == '2':\n",
    "                    self.data[self.data[self.i+3]+self.relative_base] = param1 + param2\n",
    "                self.i += 4\n",
    "\n",
    "            if optcode == '02':\n",
    "                if mode2 == '0':\n",
    "                    param2 = int(self.data[self.data[self.i+2]])\n",
    "                elif mode2 == '1':\n",
    "                    param2 = int(self.data[self.i+2])\n",
    "                elif mode2 == '2':\n",
    "                    param2 = int(self.data[self.data[self.i+2]+self.relative_base])\n",
    "                    \n",
    "                if mode3 == '0' or mode3 == '1':\n",
    "                    self.data[self.data[self.i+3]] = param1 * param2\n",
    "                elif mode3 == '2':\n",
    "                    self.data[self.data[self.i+3]+self.relative_base] = param1 * param2\n",
    "                self.i += 4\n",
    "\n",
    "            if optcode == '03':\n",
    "                if len(input) > 0:\n",
    "                    if mode1 == '0' or mode1 == '1':\n",
    "                        self.data[self.data[self.i+1]] = input[0]\n",
    "                    elif mode1 == '2':\n",
    "                        self.data[self.data[self.i+1]+self.relative_base] = input[0]\n",
    "                    del input[0]\n",
    "                    self.i += 2\n",
    "                else:\n",
    "                    self.run = False\n",
    "                    # print('Waiting for input.')\n",
    "                    break\n",
    "                    \n",
    "            if optcode == '04':\n",
    "                if mode1 == '0':\n",
    "                    self.out.append(self.data[self.data[self.i+1]])\n",
    "                    # print(self.out)\n",
    "                if mode1 == '1':\n",
    "                    self.out.append(self.data[self.i+1])\n",
    "                    # print(self.out)\n",
    "                elif mode1 == '2':\n",
    "                    self.out.append(self.data[self.data[self.i+1]+self.relative_base])\n",
    "                    # print(self.out)\n",
    "                self.i += 2\n",
    "\n",
    "            if optcode == '05':\n",
    "                if mode2 == '0':\n",
    "                    param2 = int(self.data[self.data[self.i+2]])\n",
    "                elif mode2 == '1':\n",
    "                    param2 = int(self.data[self.i+2])\n",
    "                elif mode2 == '2':\n",
    "                    param2 = int(self.data[self.data[self.i+2]+self.relative_base])\n",
    "                if param1 != 0:\n",
    "                    self.i = param2\n",
    "                else:\n",
    "                    self.i += 3\n",
    "\n",
    "            if optcode == '06':\n",
    "                if mode2 == '0':\n",
    "                    param2 = int(self.data[self.data[self.i+2]])\n",
    "                elif mode2 == '1':\n",
    "                    param2 = int(self.data[self.i+2])\n",
    "                elif mode2 == '2':\n",
    "                    param2 = int(self.data[self.data[self.i+2]+self.relative_base])\n",
    "                    \n",
    "                if param1 == 0:\n",
    "                    self.i = param2\n",
    "                else:\n",
    "                    self.i += 3\n",
    "\n",
    "            if optcode == '07':\n",
    "                if mode2 == '0':\n",
    "                    param2 = int(self.data[self.data[self.i+2]])\n",
    "                elif mode2 == '1':\n",
    "                    param2 = int(self.data[self.i+2])\n",
    "                elif mode2 == '2':\n",
    "                    param2 = int(self.data[self.data[self.i+2]+self.relative_base])\n",
    "                    \n",
    "                if param1 < param2:\n",
    "                    if mode3 == '0' or mode3 == '1':\n",
    "                        self.data[self.data[self.i+3]] = 1\n",
    "                    elif mode3 =='2':\n",
    "                        self.data[self.data[self.i+3]+self.relative_base] = 1\n",
    "                else:\n",
    "                    if mode3 == '0' or mode3 == '1':\n",
    "                        self.data[self.data[self.i+3]] = 0\n",
    "                    elif mode3 == '2':\n",
    "                        self.data[self.data[self.i+3]+self.relative_base] = 0\n",
    "                self.i += 4\n",
    "\n",
    "            if optcode == '08':\n",
    "                if mode2 == '0':\n",
    "                    param2 = int(self.data[self.data[self.i+2]])\n",
    "                elif mode2 == '1':\n",
    "                    param2 = int(self.data[self.i+2])\n",
    "                if mode2 == '2':\n",
    "                    param2 = int(self.data[self.data[self.i+2]+self.relative_base])\n",
    "\n",
    "                if param1 == param2:\n",
    "                    if mode3 == '0' or mode3 == '1':\n",
    "                        self.data[self.data[self.i+3]] = 1\n",
    "                    elif mode3 == '2':\n",
    "                        self.data[self.data[self.i+3]+self.relative_base] = 1\n",
    "                else:\n",
    "                    if mode3 == '0' or mode3 == '1':\n",
    "                        self.data[self.data[self.i+3]] = 0\n",
    "                    elif mode3 == '2':\n",
    "                        self.data[self.data[self.i+3]+self.relative_base] = 0\n",
    "                self.i += 4\n",
    "            \n",
    "            if optcode == '09':\n",
    "                self.relative_base += param1\n",
    "                self.i += 2\n",
    "\n",
    "            if optcode == '99':\n",
    "                self.run = False\n",
    "                self.done = True\n",
    "                self.i += 1\n",
    "                \n",
    "        return self.out"
   ]
  },
  {
   "cell_type": "code",
   "execution_count": 18,
   "metadata": {},
   "outputs": [],
   "source": [
    "class repair_droid(object):\n",
    "    \n",
    "    def __init__(self):\n",
    "        self.moveset = {'1': (0, -1), '2': (0, 1), '3': (-1, 0), '4': (1, 0)}\n",
    "        self.status = {'0': 'w', '1': 'm', '2': 'o'}\n",
    "        self.control = 0\n",
    "        self.state = (0, 0)\n",
    "        self.environment = nx.Graph()\n",
    "        self.environment.add_node(self.state)\n",
    "        self.oxygen_state = ()\n",
    "        \n",
    "    def step(self, new_status, action):\n",
    "        current_status = self.status['{0}'.format(new_status[0])]\n",
    "        if current_status == 'w':\n",
    "            pass\n",
    "        elif current_status =='m':\n",
    "            new_state = (self.state[0] + self.moveset['{0}'.format(action)][0],\n",
    "                          self.state[1] + self.moveset['{0}'.format(action)][1])\n",
    "            self.environment.add_edge(self.state, new_state)\n",
    "            self.state = new_state\n",
    "        elif current_status == 'o':\n",
    "            new_state = (self.state[0] + self.moveset['{0}'.format(action)][0],\n",
    "                          self.state[1] + self.moveset['{0}'.format(action)][1])\n",
    "            self.environment.add_edge(self.state, new_state)\n",
    "            self.state = new_state\n",
    "            self.oxygen_state = new_state\n",
    "        return current_status\n",
    "        \n",
    "    def path_to_oxygen(self):\n",
    "        path = nx.shortest_path(self.environment, (0, 0), self.oxygen_state)\n",
    "        path_length = len(path)-1\n",
    "        return path, path_length\n",
    "    \n",
    "    def flood_with_oxygen(self):\n",
    "        time = nx.eccentricity(self.environment, v=self.oxygen_state)\n",
    "        return time"
   ]
  },
  {
   "cell_type": "code",
   "execution_count": 23,
   "metadata": {},
   "outputs": [
    {
     "name": "stdout",
     "output_type": "stream",
     "text": [
      "The shortest way to the path requires 404 steps.\n"
     ]
    }
   ],
   "source": [
    "computer = intcode_computer(deepcopy(software))\n",
    "droid = repair_droid()\n",
    "status = False\n",
    "while status != 'o':\n",
    "    random_action = np.random.randint(1, 5)    \n",
    "    output = computer.step(random_action)\n",
    "    status = droid.step(output, random_action)\n",
    "path, path_length = droid.path_to_oxygen()\n",
    "\n",
    "print('The shortest way to the path requires {0} steps.'.format(path_length))"
   ]
  },
  {
   "cell_type": "markdown",
   "metadata": {},
   "source": [
    "# Puzzle 2: Time required to fill map with oxygen"
   ]
  },
  {
   "cell_type": "code",
   "execution_count": 24,
   "metadata": {},
   "outputs": [
    {
     "name": "stdout",
     "output_type": "stream",
     "text": [
      "406 minutes are required to fill the map with oxygen.\n"
     ]
    }
   ],
   "source": [
    "time = droid.flood_with_oxygen()\n",
    "print('{0} minutes are required to fill the map with oxygen.'.format(time))"
   ]
  },
  {
   "cell_type": "code",
   "execution_count": null,
   "metadata": {},
   "outputs": [],
   "source": []
  }
 ],
 "metadata": {
  "kernelspec": {
   "display_name": "Python 3",
   "language": "python",
   "name": "python3"
  },
  "language_info": {
   "codemirror_mode": {
    "name": "ipython",
    "version": 3
   },
   "file_extension": ".py",
   "mimetype": "text/x-python",
   "name": "python",
   "nbconvert_exporter": "python",
   "pygments_lexer": "ipython3",
   "version": "3.6.4"
  }
 },
 "nbformat": 4,
 "nbformat_minor": 2
}
