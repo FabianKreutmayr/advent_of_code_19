{
 "cells": [
  {
   "cell_type": "markdown",
   "metadata": {},
   "source": [
    "# Puzzle 1: Apply FFT 100 times to input"
   ]
  },
  {
   "cell_type": "markdown",
   "metadata": {},
   "source": [
    "### pattern [0, 1, 0, -1]; skip first as offset; repeating digits for +ith input digit; keep only ones digit of result; "
   ]
  },
  {
   "cell_type": "code",
   "execution_count": 63,
   "metadata": {},
   "outputs": [],
   "source": [
    "import numpy as np\n",
    "from copy import deepcopy"
   ]
  },
  {
   "cell_type": "markdown",
   "metadata": {},
   "source": [
    "## Load input"
   ]
  },
  {
   "cell_type": "code",
   "execution_count": 178,
   "metadata": {},
   "outputs": [],
   "source": [
    "with open('./input16.txt', 'r') as file:\n",
    "\n",
    "    data = file.readlines()"
   ]
  },
  {
   "cell_type": "markdown",
   "metadata": {},
   "source": [
    "#### data to array of ints"
   ]
  },
  {
   "cell_type": "code",
   "execution_count": 179,
   "metadata": {},
   "outputs": [],
   "source": [
    "data = np.array([int(x) for x in data[0]])"
   ]
  },
  {
   "cell_type": "code",
   "execution_count": 184,
   "metadata": {},
   "outputs": [],
   "source": [
    "number = deepcopy(data)"
   ]
  },
  {
   "cell_type": "code",
   "execution_count": 185,
   "metadata": {},
   "outputs": [],
   "source": [
    "def repeat_pattern(pattern, repetitions, length):\n",
    "    new_pattern = ()\n",
    "    for i in pattern:\n",
    "        new_pattern += (i,)*repetitions\n",
    "    new_pattern = new_pattern*(length+1)\n",
    "    return new_pattern[1:length+1]"
   ]
  },
  {
   "cell_type": "code",
   "execution_count": 186,
   "metadata": {},
   "outputs": [],
   "source": [
    "pattern = (0, 1, 0, -1)"
   ]
  },
  {
   "cell_type": "code",
   "execution_count": 187,
   "metadata": {
    "scrolled": true
   },
   "outputs": [
    {
     "name": "stdout",
     "output_type": "stream",
     "text": [
      "0\n",
      "1\n",
      "2\n",
      "3\n",
      "4\n",
      "5\n",
      "6\n",
      "7\n",
      "8\n",
      "9\n",
      "10\n",
      "11\n",
      "12\n",
      "13\n",
      "14\n",
      "15\n",
      "16\n",
      "17\n",
      "18\n",
      "19\n",
      "20\n",
      "21\n",
      "22\n",
      "23\n",
      "24\n",
      "25\n",
      "26\n",
      "27\n",
      "28\n",
      "29\n",
      "30\n",
      "31\n",
      "32\n",
      "33\n",
      "34\n",
      "35\n",
      "36\n",
      "37\n",
      "38\n",
      "39\n",
      "40\n",
      "41\n",
      "42\n",
      "43\n",
      "44\n",
      "45\n",
      "46\n",
      "47\n",
      "48\n",
      "49\n",
      "50\n",
      "51\n",
      "52\n",
      "53\n",
      "54\n",
      "55\n",
      "56\n",
      "57\n",
      "58\n",
      "59\n",
      "60\n",
      "61\n",
      "62\n",
      "63\n",
      "64\n",
      "65\n",
      "66\n",
      "67\n",
      "68\n",
      "69\n",
      "70\n",
      "71\n",
      "72\n",
      "73\n",
      "74\n",
      "75\n",
      "76\n",
      "77\n",
      "78\n",
      "79\n",
      "80\n",
      "81\n",
      "82\n",
      "83\n",
      "84\n",
      "85\n",
      "86\n",
      "87\n",
      "88\n",
      "89\n",
      "90\n",
      "91\n",
      "92\n",
      "93\n",
      "94\n",
      "95\n",
      "96\n",
      "97\n",
      "98\n",
      "99\n"
     ]
    },
    {
     "data": {
      "text/plain": [
       "'58672132580755468361471781172153971180956668534025024806898395488155925288156142426979913611636541827792117094231775787036499470974126114356567218702366217565639596759821380156288517532149028263228322853373468568247921766462500010768826058735470968623018426541705476270667114845528248012706612179613730718388033513894471278847986427223747047049659143419294914065804957790818993455784548745816317788327934074223670886849031794946549997215448069331456302732144969613001881743255784026893914051700990494832952063201854455300240287791607020620761641895796559555915567822908856342261079550404005391617401873850315536400623091863054131789964955458682511498'"
      ]
     },
     "execution_count": 187,
     "metadata": {},
     "output_type": "execute_result"
    }
   ],
   "source": [
    "for j in range(0, 100):\n",
    "    newnumber = []\n",
    "    print(j)\n",
    "    for i in range(1, len(number)+1):\n",
    "        pat = repeat_pattern(pattern, i, len(number))\n",
    "        next_digit = sum(np.multiply(number, np.asarray(pat)))\n",
    "        newnumber.append(int(str(next_digit)[-1]))\n",
    "    number = np.array(deepcopy(newnumber))\n",
    "digits = ''\n",
    "digits = digits.join([str(x) for x in number])\n",
    "print('The first eight digits are {0}.'.format(digits[0:8]))"
   ]
  },
  {
   "cell_type": "code",
   "execution_count": 191,
   "metadata": {},
   "outputs": [
    {
     "name": "stdout",
     "output_type": "stream",
     "text": [
      "The first eight digits are 58672132.\n"
     ]
    }
   ],
   "source": [
    "print('The first eight digits are {0}.'.format(digits[0:8]))"
   ]
  },
  {
   "cell_type": "markdown",
   "metadata": {},
   "source": [
    "# Puzzle 2: Apply FFT 100 times to input with longer list and message offset"
   ]
  },
  {
   "cell_type": "code",
   "execution_count": 231,
   "metadata": {},
   "outputs": [],
   "source": [
    "with open('./input16.txt', 'r') as file:\n",
    "\n",
    "    data = file.readlines()"
   ]
  },
  {
   "cell_type": "code",
   "execution_count": 232,
   "metadata": {},
   "outputs": [],
   "source": [
    "inputnumber = np.array([int(x) for x in data[0]])"
   ]
  },
  {
   "cell_type": "code",
   "execution_count": 233,
   "metadata": {},
   "outputs": [],
   "source": [
    "inputnumber = np.tile(inputnumber, 10000)"
   ]
  },
  {
   "cell_type": "code",
   "execution_count": 234,
   "metadata": {},
   "outputs": [],
   "source": [
    "offset = int(data[0][0:7])\n",
    "number = deepcopy(inputnumber[offset:])"
   ]
  },
  {
   "cell_type": "code",
   "execution_count": 235,
   "metadata": {},
   "outputs": [
    {
     "data": {
      "text/plain": [
       "528277"
      ]
     },
     "execution_count": 235,
     "metadata": {},
     "output_type": "execute_result"
    }
   ],
   "source": [
    "len(number)"
   ]
  },
  {
   "cell_type": "code",
   "execution_count": null,
   "metadata": {},
   "outputs": [],
   "source": [
    "for iteration in range(0, 100):\n",
    "    newnumber = np.cumsum(number[::-1]) % 10\n",
    "    number = newnumber[::-1]\n",
    "digits = ''\n",
    "digits = digits.join([str(x) for x in number])\n",
    "print('The first eight digits are {0}.'.format(digits[0:8]))"
   ]
  },
  {
   "cell_type": "code",
   "execution_count": 229,
   "metadata": {},
   "outputs": [
    {
     "data": {
      "text/plain": [
       "array([9, 1, 6, 8, 9, 3, 8, 0], dtype=int32)"
      ]
     },
     "execution_count": 229,
     "metadata": {},
     "output_type": "execute_result"
    }
   ],
   "source": [
    "number[0:8]"
   ]
  },
  {
   "cell_type": "code",
   "execution_count": 199,
   "metadata": {},
   "outputs": [
    {
     "name": "stdout",
     "output_type": "stream",
     "text": [
      "0\n"
     ]
    },
    {
     "ename": "KeyboardInterrupt",
     "evalue": "",
     "output_type": "error",
     "traceback": [
      "\u001b[1;31m---------------------------------------------------------------------------\u001b[0m",
      "\u001b[1;31mKeyboardInterrupt\u001b[0m                         Traceback (most recent call last)",
      "\u001b[1;32m<ipython-input-199-c869524c00ed>\u001b[0m in \u001b[0;36m<module>\u001b[1;34m()\u001b[0m\n\u001b[0;32m      4\u001b[0m     \u001b[1;32mfor\u001b[0m \u001b[0mi\u001b[0m \u001b[1;32min\u001b[0m \u001b[0mrange\u001b[0m\u001b[1;33m(\u001b[0m\u001b[1;36m1\u001b[0m\u001b[1;33m,\u001b[0m \u001b[0mlen\u001b[0m\u001b[1;33m(\u001b[0m\u001b[0mnumber\u001b[0m\u001b[1;33m)\u001b[0m\u001b[1;33m+\u001b[0m\u001b[1;36m1\u001b[0m\u001b[1;33m)\u001b[0m\u001b[1;33m:\u001b[0m\u001b[1;33m\u001b[0m\u001b[0m\n\u001b[0;32m      5\u001b[0m         \u001b[0mpat\u001b[0m \u001b[1;33m=\u001b[0m \u001b[0mrepeat_pattern\u001b[0m\u001b[1;33m(\u001b[0m\u001b[0mpattern\u001b[0m\u001b[1;33m,\u001b[0m \u001b[0mi\u001b[0m\u001b[1;33m,\u001b[0m \u001b[0mlen\u001b[0m\u001b[1;33m(\u001b[0m\u001b[0mnumber\u001b[0m\u001b[1;33m)\u001b[0m\u001b[1;33m)\u001b[0m\u001b[1;33m\u001b[0m\u001b[0m\n\u001b[1;32m----> 6\u001b[1;33m         \u001b[0mnext_digit\u001b[0m \u001b[1;33m=\u001b[0m \u001b[0msum\u001b[0m\u001b[1;33m(\u001b[0m\u001b[0mnp\u001b[0m\u001b[1;33m.\u001b[0m\u001b[0mmultiply\u001b[0m\u001b[1;33m(\u001b[0m\u001b[0mnumber\u001b[0m\u001b[1;33m,\u001b[0m \u001b[0mnp\u001b[0m\u001b[1;33m.\u001b[0m\u001b[0masarray\u001b[0m\u001b[1;33m(\u001b[0m\u001b[0mpat\u001b[0m\u001b[1;33m)\u001b[0m\u001b[1;33m)\u001b[0m\u001b[1;33m)\u001b[0m\u001b[1;33m\u001b[0m\u001b[0m\n\u001b[0m\u001b[0;32m      7\u001b[0m         \u001b[0mnewnumber\u001b[0m\u001b[1;33m.\u001b[0m\u001b[0mappend\u001b[0m\u001b[1;33m(\u001b[0m\u001b[0mint\u001b[0m\u001b[1;33m(\u001b[0m\u001b[0mstr\u001b[0m\u001b[1;33m(\u001b[0m\u001b[0mnext_digit\u001b[0m\u001b[1;33m)\u001b[0m\u001b[1;33m[\u001b[0m\u001b[1;33m-\u001b[0m\u001b[1;36m1\u001b[0m\u001b[1;33m]\u001b[0m\u001b[1;33m)\u001b[0m\u001b[1;33m)\u001b[0m\u001b[1;33m\u001b[0m\u001b[0m\n\u001b[0;32m      8\u001b[0m     \u001b[0mnumber\u001b[0m \u001b[1;33m=\u001b[0m \u001b[0mnp\u001b[0m\u001b[1;33m.\u001b[0m\u001b[0marray\u001b[0m\u001b[1;33m(\u001b[0m\u001b[0mdeepcopy\u001b[0m\u001b[1;33m(\u001b[0m\u001b[0mnewnumber\u001b[0m\u001b[1;33m)\u001b[0m\u001b[1;33m)\u001b[0m\u001b[1;33m\u001b[0m\u001b[0m\n",
      "\u001b[1;31mKeyboardInterrupt\u001b[0m: "
     ]
    }
   ],
   "source": [
    "for j in range(0, 100):\n",
    "    newnumber = []\n",
    "    print(j)\n",
    "    for i in range(1, len(number)+1):\n",
    "        pat = repeat_pattern(pattern, i, len(number))\n",
    "        next_digit = sum(np.multiply(number, np.asarray(pat)))\n",
    "        newnumber.append(int(str(next_digit)[-1]))\n",
    "    number = np.array(deepcopy(newnumber))\n",
    "digits = ''\n",
    "digits = digits.join([str(x) for x in number])\n",
    "print('The first eight digits are {0}.'.format(digits[int(digits[0:7]):int(digits[0:7])+8]))"
   ]
  },
  {
   "cell_type": "code",
   "execution_count": 198,
   "metadata": {},
   "outputs": [
    {
     "data": {
      "text/plain": [
       "5867213"
      ]
     },
     "execution_count": 198,
     "metadata": {},
     "output_type": "execute_result"
    }
   ],
   "source": [
    "int(digits[0:7])"
   ]
  },
  {
   "cell_type": "code",
   "execution_count": 5,
   "metadata": {},
   "outputs": [],
   "source": [
    "class moon_simulator(object):\n",
    "    \n",
    "    def __init__(self, coordinate_list):\n",
    "        \n",
    "        self.coordinate_list = coordinate_list\n",
    "        self.velocity_list = np.zeros(coordinate_list.shape)\n",
    "        self.number_planets = len(coordinate_list)\n",
    "        \n",
    "    def step(self):\n",
    "        \n",
    "        for i, coordinates in enumerate(self.coordinate_list):\n",
    "            smaller = (coordinates < np.delete(self.coordinate_list, i, 0)).astype(int)\n",
    "            equal = (coordinates == np.delete(self.coordinate_list, i, 0)).astype(int)\n",
    "            # mapping: y/(num_pl-1) + 2*(num_pl-1) - (num_pl-1)\n",
    "            delta_vel = sum(smaller)*2-(self.number_planets-1)+sum(equal)\n",
    "            self.velocity_list[i] += delta_vel\n",
    "            \n",
    "        self.coordinate_list += self.velocity_list\n",
    "        \n",
    "    def energy(self):\n",
    "        \n",
    "        self.e_p = np.sum(abs(self.coordinate_list), 1)\n",
    "        self.e_k = np.sum(abs(self.velocity_list), 1)\n",
    "        self.e = np.sum(self.e_p*self.e_k)"
   ]
  },
  {
   "cell_type": "code",
   "execution_count": null,
   "metadata": {},
   "outputs": [],
   "source": []
  },
  {
   "cell_type": "code",
   "execution_count": null,
   "metadata": {},
   "outputs": [],
   "source": []
  },
  {
   "cell_type": "code",
   "execution_count": null,
   "metadata": {},
   "outputs": [],
   "source": []
  },
  {
   "cell_type": "code",
   "execution_count": 6,
   "metadata": {},
   "outputs": [
    {
     "name": "stdout",
     "output_type": "stream",
     "text": [
      "The energy of the system after 1000 steps is 7179.0.\n"
     ]
    }
   ],
   "source": [
    "steps = 1000\n",
    "moons = moon_simulator(deepcopy(coordinate_list))\n",
    "for i in range(0, steps):\n",
    "    moons.step()\n",
    "\n",
    "moons.energy()\n",
    "print('The energy of the system after {0} steps is {1}.'.format(steps, moons.e))\n"
   ]
  },
  {
   "cell_type": "markdown",
   "metadata": {},
   "source": [
    "# Puzzle 2: N-body problem - calculate length of period"
   ]
  },
  {
   "cell_type": "markdown",
   "metadata": {},
   "source": [
    "### all the axes are independent, so we can split the system; whole period is the least common multiple of all three periods"
   ]
  },
  {
   "cell_type": "markdown",
   "metadata": {},
   "source": [
    "#### at first, set up a moon simulator for each axis and store the initial state"
   ]
  },
  {
   "cell_type": "code",
   "execution_count": 7,
   "metadata": {},
   "outputs": [],
   "source": [
    "simulator_dict = dict()\n",
    "states_init_dict = dict()\n",
    "for i in range(0, len(coordinate_list[0])):\n",
    "    simulator_dict['{0}'.format(i)] = moon_simulator(deepcopy(coordinate_list[:, i].reshape(-1, 1)))\n",
    "    states_init_dict['{0}'.format(i)] = np.append(simulator_dict['{0}'.format(i)].coordinate_list,\n",
    "                                                 simulator_dict['{0}'.format(i)].velocity_list)"
   ]
  },
  {
   "cell_type": "markdown",
   "metadata": {},
   "source": [
    "#### now, simulate the systems until they reach their initial state and calculate the lcm"
   ]
  },
  {
   "cell_type": "code",
   "execution_count": 8,
   "metadata": {},
   "outputs": [],
   "source": [
    "def lcm(values):\n",
    "    multiple = values[0]\n",
    "    for i in range(1, len(values)):\n",
    "        multiple = multiple*values[i] // gcd(multiple, values[i])\n",
    "    return multiple"
   ]
  },
  {
   "cell_type": "code",
   "execution_count": 9,
   "metadata": {},
   "outputs": [
    {
     "name": "stdout",
     "output_type": "stream",
     "text": [
      "The period length of the system is 428576638953552.\n"
     ]
    }
   ],
   "source": [
    "periods = []\n",
    "for key in simulator_dict.keys():\n",
    "    state = np.zeros(states_init_dict[key].shape)\n",
    "    period = 0\n",
    "    while sum(states_init_dict[key] == state) != len(states_init_dict[key]):\n",
    "        simulator_dict[key].step()\n",
    "        state = np.append(simulator_dict[key].coordinate_list, simulator_dict[key].velocity_list)\n",
    "        period += 1\n",
    "    periods.append(period)\n",
    "print('The period length of the system is {0}.'.format(lcm(periods)))"
   ]
  },
  {
   "cell_type": "code",
   "execution_count": null,
   "metadata": {},
   "outputs": [],
   "source": []
  }
 ],
 "metadata": {
  "kernelspec": {
   "display_name": "Python 3",
   "language": "python",
   "name": "python3"
  },
  "language_info": {
   "codemirror_mode": {
    "name": "ipython",
    "version": 3
   },
   "file_extension": ".py",
   "mimetype": "text/x-python",
   "name": "python",
   "nbconvert_exporter": "python",
   "pygments_lexer": "ipython3",
   "version": "3.6.4"
  }
 },
 "nbformat": 4,
 "nbformat_minor": 2
}
