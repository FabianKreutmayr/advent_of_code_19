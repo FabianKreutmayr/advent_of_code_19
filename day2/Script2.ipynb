{
 "cells": [
  {
   "cell_type": "markdown",
   "metadata": {},
   "source": [
    "# Puzzle 1: Calculate program output"
   ]
  },
  {
   "cell_type": "markdown",
   "metadata": {},
   "source": [
    "### 1 --> add; 2 --> multiply; 99 --> halt; replace position 1 with 12 and position 2 with 2"
   ]
  },
  {
   "cell_type": "code",
   "execution_count": 40,
   "metadata": {},
   "outputs": [],
   "source": [
    "import numpy as np"
   ]
  },
  {
   "cell_type": "markdown",
   "metadata": {},
   "source": [
    "## Load input"
   ]
  },
  {
   "cell_type": "code",
   "execution_count": 41,
   "metadata": {},
   "outputs": [],
   "source": [
    "with open('./input2.txt', 'r') as file:\n",
    "\n",
    "    data = file.readlines()"
   ]
  },
  {
   "cell_type": "markdown",
   "metadata": {},
   "source": [
    "#### Convert data to list of integers and change the value of pos 1 and pos 2"
   ]
  },
  {
   "cell_type": "code",
   "execution_count": 42,
   "metadata": {},
   "outputs": [],
   "source": [
    "data = list(map(int, data[0].split(',')))\n",
    "data[1] = 12\n",
    "data[2] = 2"
   ]
  },
  {
   "cell_type": "markdown",
   "metadata": {},
   "source": [
    "## Calculation"
   ]
  },
  {
   "cell_type": "code",
   "execution_count": 43,
   "metadata": {},
   "outputs": [],
   "source": [
    "for i in range(0, len(data), 4):\n",
    "    if data[i] == 1:\n",
    "        data[data[i+3]] = data[data[i+1]] + data[data[i+2]]\n",
    "    if data[i] == 2:\n",
    "        data[data[i+3]] = data[data[i+1]] * data[data[i+2]]\n",
    "    if data[i] == 99:\n",
    "        break"
   ]
  },
  {
   "cell_type": "code",
   "execution_count": 46,
   "metadata": {},
   "outputs": [
    {
     "name": "stdout",
     "output_type": "stream",
     "text": [
      "The value at position 0 is 3654868.\n"
     ]
    }
   ],
   "source": [
    "print('The value at position 0 is {0}.'.format(data[0]))"
   ]
  },
  {
   "cell_type": "markdown",
   "metadata": {},
   "source": [
    "# Puzzle 2: Search program inputs"
   ]
  },
  {
   "cell_type": "markdown",
   "metadata": {},
   "source": [
    "### solution = 100*noun+verb"
   ]
  },
  {
   "cell_type": "code",
   "execution_count": 67,
   "metadata": {},
   "outputs": [],
   "source": [
    "import copy"
   ]
  },
  {
   "cell_type": "markdown",
   "metadata": {},
   "source": [
    "## Load input"
   ]
  },
  {
   "cell_type": "code",
   "execution_count": 73,
   "metadata": {},
   "outputs": [],
   "source": [
    "with open('./input2.txt', 'r') as file:\n",
    "\n",
    "    data = file.readlines()"
   ]
  },
  {
   "cell_type": "code",
   "execution_count": 74,
   "metadata": {},
   "outputs": [],
   "source": [
    "data = list(map(int, data[0].split(',')))"
   ]
  },
  {
   "cell_type": "code",
   "execution_count": 75,
   "metadata": {},
   "outputs": [],
   "source": [
    "def calculation(program, noun, verb):\n",
    "    program[1] = noun\n",
    "    program[2] = verb\n",
    "    for i in range(0, len(program), 4):\n",
    "        if program[i] == 1:\n",
    "            try:\n",
    "                program[program[i+3]] = program[program[i+1]] + program[program[i+2]]\n",
    "            except:\n",
    "                break\n",
    "        if program[i] == 2:\n",
    "            try:\n",
    "                program[program[i+3]] = program[program[i+1]] * program[program[i+2]]\n",
    "            except:\n",
    "                break\n",
    "        if program[i] == 99:\n",
    "            break\n",
    "    return program[0]"
   ]
  },
  {
   "cell_type": "code",
   "execution_count": 80,
   "metadata": {},
   "outputs": [],
   "source": [
    "for noun in range(0, 100):\n",
    "    for verb in range(0,100):\n",
    "        output = calculation(copy.deepcopy(data), noun, verb)\n",
    "        if output == 19690720:\n",
    "            break\n",
    "    if output == 19690720:\n",
    "        solution = 100*noun+verb\n",
    "        break"
   ]
  },
  {
   "cell_type": "code",
   "execution_count": 83,
   "metadata": {},
   "outputs": [
    {
     "name": "stdout",
     "output_type": "stream",
     "text": [
      "The solution is 7014.\n"
     ]
    }
   ],
   "source": [
    "print('The solution is {0}.'.format(solution))"
   ]
  },
  {
   "cell_type": "code",
   "execution_count": null,
   "metadata": {},
   "outputs": [],
   "source": []
  }
 ],
 "metadata": {
  "kernelspec": {
   "display_name": "Python 3",
   "language": "python",
   "name": "python3"
  },
  "language_info": {
   "codemirror_mode": {
    "name": "ipython",
    "version": 3
   },
   "file_extension": ".py",
   "mimetype": "text/x-python",
   "name": "python",
   "nbconvert_exporter": "python",
   "pygments_lexer": "ipython3",
   "version": "3.6.8"
  }
 },
 "nbformat": 4,
 "nbformat_minor": 2
}
