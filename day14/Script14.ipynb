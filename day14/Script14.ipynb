{
 "cells": [
  {
   "cell_type": "markdown",
   "metadata": {},
   "source": [
    "### Note: This solution is neither pretty nor efficient (takes nearly forever to run). Rework is highly required."
   ]
  },
  {
   "cell_type": "markdown",
   "metadata": {},
   "source": [
    "# Puzzle 1: Get minimum amount of ORE"
   ]
  },
  {
   "cell_type": "markdown",
   "metadata": {},
   "source": [
    "### ORE => ... => FUEL; how many units of ORE for one unit of FUEL?"
   ]
  },
  {
   "cell_type": "code",
   "execution_count": 1,
   "metadata": {},
   "outputs": [],
   "source": [
    "import numpy as np\n",
    "from copy import deepcopy"
   ]
  },
  {
   "cell_type": "markdown",
   "metadata": {},
   "source": [
    "## Load input"
   ]
  },
  {
   "cell_type": "code",
   "execution_count": 103,
   "metadata": {},
   "outputs": [],
   "source": [
    "with open('./input14.txt', 'r') as file:\n",
    "\n",
    "    data = file.readlines()"
   ]
  },
  {
   "cell_type": "markdown",
   "metadata": {},
   "source": [
    "#### some data preprocessing"
   ]
  },
  {
   "cell_type": "code",
   "execution_count": 104,
   "metadata": {},
   "outputs": [],
   "source": [
    "data = [x.strip().split('=>') for x in data]"
   ]
  },
  {
   "cell_type": "code",
   "execution_count": 106,
   "metadata": {},
   "outputs": [],
   "source": [
    "for i, elements in enumerate(data):\n",
    "    data[i][0] = elements[0].split()\n",
    "    data[i][1] = elements[1].split()"
   ]
  },
  {
   "cell_type": "code",
   "execution_count": 107,
   "metadata": {},
   "outputs": [],
   "source": [
    "def duplicates(checklist):\n",
    "    for i in range(1, len(checklist), 2):\n",
    "        for j in range(i+2, len(checklist), 2):\n",
    "            if checklist[j].replace(',', '') == checklist[i].replace(',', ''):\n",
    "                #print(i, checklist)\n",
    "                checklist[i-1] = int(checklist[i-1]) + int(checklist[j-1])\n",
    "                checklist[j-1] = 0\n",
    "                \n",
    "    while 0 in checklist:\n",
    "        for i in range(0, len(checklist), 2):\n",
    "            if checklist[i] == 0:\n",
    "                del checklist[i:i+2]\n",
    "                break\n",
    "                \n",
    "    return checklist"
   ]
  },
  {
   "cell_type": "code",
   "execution_count": 147,
   "metadata": {},
   "outputs": [],
   "source": [
    "fuel = []\n",
    "for i in data:\n",
    "    if 'FUEL' in i[1]:\n",
    "        fuel = deepcopy(i[0])"
   ]
  },
  {
   "cell_type": "code",
   "execution_count": 148,
   "metadata": {},
   "outputs": [
    {
     "name": "stdout",
     "output_type": "stream",
     "text": [
      "The required amount of ORE is 612880.\n"
     ]
    }
   ],
   "source": [
    "element_storage = dict()\n",
    "while len(fuel) > 2:\n",
    "    temp1 = deepcopy(data)\n",
    "    temp2 = []\n",
    "    flag = 0\n",
    "    for i in range(1, len(fuel), 2):\n",
    "        for elements in temp1:\n",
    "            fuel[i] = fuel[i].replace(',', '')\n",
    "            if fuel[i] in element_storage:\n",
    "                if element_storage['{0}'.format(fuel[i])] >= int(fuel[i-1]):\n",
    "                    element_storage['{0}'.format(fuel[i])] -= int(fuel[i-1])\n",
    "                    fuel[i-1] = 0\n",
    "                    break\n",
    "                elif element_storage['{0}'.format(fuel[i])] >0:\n",
    "                    fuel[i-1] = int(fuel[i-1]) - element_storage['{0}'.format(fuel[i])]\n",
    "                    element_storage['{0}'.format(fuel[i])] = 0\n",
    "            else:\n",
    "                element_storage['{0}'.format(fuel[i])] = 0\n",
    "            if fuel[i] in elements[1] and 'ORE' not in elements[0] and int(fuel[i-1]) > 0:\n",
    "                temp3 = deepcopy(elements)\n",
    "                flag = 1\n",
    "                if int(fuel[i-1]) > int(elements[1][0]):\n",
    "                    for j in range(0, len(elements[0]), 2):\n",
    "                        temp3[0][j] = np.ceil(int(fuel[i-1])/int(elements[1][0]))*int(elements[0][j])\n",
    "                    element_storage['{0}'.format(fuel[i])] += (np.ceil(int(fuel[i-1])/int(elements[1][0]))*int(elements[1][0])-int(fuel[i-1]))\n",
    "                    temp2.append(temp3[0])\n",
    "                    break\n",
    "                elif int(fuel[i-1]) <= int(elements[1][0]) and int(fuel[i-1]) > 0:\n",
    "                    temp2.append(temp3[0])\n",
    "                    element_storage['{0}'.format(fuel[i])] += (int(elements[1][0])-int(fuel[i-1]))\n",
    "                    break\n",
    "            elif fuel[i] in elements[1] and 'ORE' in elements[0] and int(fuel[i-1]) > 0:\n",
    "                temp2.append(fuel[i-1:i+1])\n",
    "                break\n",
    "                \n",
    "    if len(temp2) > 0 and flag == 1:\n",
    "        fuel = deepcopy([x for sublist in temp2 for x in sublist])\n",
    "        fuel = duplicates(deepcopy(fuel))\n",
    "    elif flag == 0:\n",
    "        break\n",
    "        \n",
    "while len(fuel) > 2:\n",
    "    temp1 = deepcopy(data)\n",
    "    temp2 = []\n",
    "    for i in range(1, len(fuel), 2):\n",
    "        for elements in temp1:\n",
    "            fuel[i] = fuel[i].replace(',', '')\n",
    "            if fuel[i] in element_storage:\n",
    "                if element_storage['{0}'.format(fuel[i])] >= int(fuel[i-1]):\n",
    "                    fuel[i-1] = 0\n",
    "                    element_storage['{0}'.format(fuel[i])] -= int(fuel[i-1])\n",
    "                else:\n",
    "                    fuel[i-1] = int(fuel[i-1]) - element_storage['{0}'.format(fuel[i])]\n",
    "                    element_storage['{0}'.format(fuel[i])] = 0\n",
    "            else:\n",
    "                element_storage['{0}'.format(fuel[i])] = 0\n",
    "            if fuel[i] in elements[1]:\n",
    "                temp3 = deepcopy(elements)\n",
    "                if int(fuel[i-1]) > int(elements[1][0]):\n",
    "                    for j in range(0, len(elements[0]), 2):\n",
    "                        temp3[0][j] = np.ceil(int(fuel[i-1])/int(elements[1][0]))*int(elements[0][j])\n",
    "                        element_storage['{0}'.format(fuel[i])] += np.ceil(int(fuel[i-1])/int(elements[1][0]))*int(elements[1][0])-int(fuel[i-1])\n",
    "                    temp2.append(temp3[0])\n",
    "                elif int(fuel[i-1]) <= int(elements[1][0]) and int(fuel[i-1]) > 0 and int(fuel[i-1]) > 0:\n",
    "                    temp2.append(temp3[0])\n",
    "                    element_storage['{0}'.format(fuel[i])] += int(fuel[i-1]) - int(elements[1][0])\n",
    "    if len(temp2) > 0:\n",
    "        fuel = deepcopy([x for sublist in temp2 for x in sublist])\n",
    "        fuel = duplicates(deepcopy(fuel))\n",
    "    else:\n",
    "        break\n",
    "        \n",
    "print('The required amount of ORE is {0}.'.format(fuel[0]))"
   ]
  },
  {
   "cell_type": "markdown",
   "metadata": {},
   "source": [
    "# Puzzle 2: How much FUEL for 1000000000000 ORE?"
   ]
  },
  {
   "cell_type": "code",
   "execution_count": 166,
   "metadata": {},
   "outputs": [],
   "source": [
    "def ore_for_fuel(element_storage):\n",
    "    fuel = []\n",
    "    for i in data:\n",
    "        if 'FUEL' in i[1]:\n",
    "            fuel = deepcopy(i[0])\n",
    "    \n",
    "    while len(fuel) > 2:\n",
    "        temp1 = deepcopy(data)\n",
    "        temp2 = []\n",
    "        flag = 0\n",
    "        for i in range(1, len(fuel), 2):\n",
    "            for elements in temp1:\n",
    "                fuel[i] = fuel[i].replace(',', '')\n",
    "                if fuel[i] in element_storage:\n",
    "                    if element_storage['{0}'.format(fuel[i])] >= int(fuel[i-1]):\n",
    "                        element_storage['{0}'.format(fuel[i])] -= int(fuel[i-1])\n",
    "                        fuel[i-1] = 0\n",
    "                        break\n",
    "                    elif element_storage['{0}'.format(fuel[i])] >0:\n",
    "                        fuel[i-1] = int(fuel[i-1]) - element_storage['{0}'.format(fuel[i])]\n",
    "                        element_storage['{0}'.format(fuel[i])] = 0\n",
    "                else:\n",
    "                    element_storage['{0}'.format(fuel[i])] = 0\n",
    "                if fuel[i] in elements[1] and 'ORE' not in elements[0] and int(fuel[i-1]) > 0:\n",
    "                    temp3 = deepcopy(elements)\n",
    "                    flag = 1\n",
    "                    if int(fuel[i-1]) > int(elements[1][0]):\n",
    "                        for j in range(0, len(elements[0]), 2):\n",
    "                            temp3[0][j] = np.ceil(int(fuel[i-1])/int(elements[1][0]))*int(elements[0][j])\n",
    "                        element_storage['{0}'.format(fuel[i])] += (np.ceil(int(fuel[i-1])/int(elements[1][0]))*int(elements[1][0])-int(fuel[i-1]))\n",
    "                        temp2.append(temp3[0])\n",
    "                        break\n",
    "                    elif int(fuel[i-1]) <= int(elements[1][0]) and int(fuel[i-1]) > 0:\n",
    "                        temp2.append(temp3[0])\n",
    "                        element_storage['{0}'.format(fuel[i])] += (int(elements[1][0])-int(fuel[i-1]))\n",
    "                        break\n",
    "                elif fuel[i] in elements[1] and 'ORE' in elements[0] and int(fuel[i-1]) > 0:\n",
    "                    temp2.append(fuel[i-1:i+1])\n",
    "                    break\n",
    "\n",
    "        if len(temp2) > 0 and flag == 1:\n",
    "            fuel = deepcopy([x for sublist in temp2 for x in sublist])\n",
    "            fuel = duplicates(deepcopy(fuel))\n",
    "        elif flag == 0:\n",
    "            break\n",
    "\n",
    "    while len(fuel) > 2:\n",
    "        temp1 = deepcopy(data)\n",
    "        temp2 = []\n",
    "        for i in range(1, len(fuel), 2):\n",
    "            for elements in temp1:\n",
    "                fuel[i] = fuel[i].replace(',', '')\n",
    "                if fuel[i] in element_storage:\n",
    "                    if element_storage['{0}'.format(fuel[i])] >= int(fuel[i-1]):\n",
    "                        fuel[i-1] = 0\n",
    "                        element_storage['{0}'.format(fuel[i])] -= int(fuel[i-1])\n",
    "                    else:\n",
    "                        fuel[i-1] = int(fuel[i-1]) - element_storage['{0}'.format(fuel[i])]\n",
    "                        element_storage['{0}'.format(fuel[i])] = 0\n",
    "                else:\n",
    "                    element_storage['{0}'.format(fuel[i])] = 0\n",
    "                if fuel[i] in elements[1]:\n",
    "                    temp3 = deepcopy(elements)\n",
    "                    if int(fuel[i-1]) > int(elements[1][0]):\n",
    "                        for j in range(0, len(elements[0]), 2):\n",
    "                            temp3[0][j] = np.ceil(int(fuel[i-1])/int(elements[1][0]))*int(elements[0][j])\n",
    "                            element_storage['{0}'.format(fuel[i])] += np.ceil(int(fuel[i-1])/int(elements[1][0]))*int(elements[1][0])-int(fuel[i-1])\n",
    "                        temp2.append(temp3[0])\n",
    "                    elif int(fuel[i-1]) <= int(elements[1][0]) and int(fuel[i-1]) > 0 and int(fuel[i-1]) > 0:\n",
    "                        temp2.append(temp3[0])\n",
    "                        element_storage['{0}'.format(fuel[i])] += int(fuel[i-1]) - int(elements[1][0])\n",
    "        if len(temp2) > 0:\n",
    "            fuel = deepcopy([x for sublist in temp2 for x in sublist])\n",
    "            fuel = duplicates(deepcopy(fuel))\n",
    "        else:\n",
    "            break\n",
    "    return int(fuel[0]), element_storage"
   ]
  },
  {
   "cell_type": "code",
   "execution_count": 167,
   "metadata": {
    "scrolled": true
   },
   "outputs": [],
   "source": [
    "element_storage = dict()\n",
    "ore_available = 1\n",
    "ore_used = 0\n",
    "fuel_created = 0\n",
    "while ore_used < ore_available:\n",
    "    ore, element_storage = ore_for_fuel(element_storage)\n",
    "    ore_used += ore\n",
    "    fuel_created += 1\n",
    "    # print('{0} of {1}'.format(ore_used, ore_available))"
   ]
  },
  {
   "cell_type": "code",
   "execution_count": 170,
   "metadata": {},
   "outputs": [
    {
     "name": "stdout",
     "output_type": "stream",
     "text": [
      "There have been 2509120 units of fuel created.\n"
     ]
    }
   ],
   "source": [
    "print('There have been {0} units of fuel created.'.format(fuel_created))"
   ]
  },
  {
   "cell_type": "code",
   "execution_count": null,
   "metadata": {},
   "outputs": [],
   "source": []
  }
 ],
 "metadata": {
  "kernelspec": {
   "display_name": "Python 3",
   "language": "python",
   "name": "python3"
  },
  "language_info": {
   "codemirror_mode": {
    "name": "ipython",
    "version": 3
   },
   "file_extension": ".py",
   "mimetype": "text/x-python",
   "name": "python",
   "nbconvert_exporter": "python",
   "pygments_lexer": "ipython3",
   "version": "3.6.4"
  }
 },
 "nbformat": 4,
 "nbformat_minor": 2
}
