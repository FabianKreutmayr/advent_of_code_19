{
 "cells": [
  {
   "cell_type": "markdown",
   "metadata": {},
   "source": [
    "# Puzzle 1: Build a hull painting robot"
   ]
  },
  {
   "cell_type": "markdown",
   "metadata": {},
   "source": [
    "### 0 --> black; 1 --> white; robot moving: 0 --> left, 1 --> right; all panels black at first; how many panels does the robot paint at least once?"
   ]
  },
  {
   "cell_type": "code",
   "execution_count": 1,
   "metadata": {},
   "outputs": [],
   "source": [
    "import numpy as np\n",
    "from copy import deepcopy"
   ]
  },
  {
   "cell_type": "markdown",
   "metadata": {},
   "source": [
    "## Load input"
   ]
  },
  {
   "cell_type": "code",
   "execution_count": 2,
   "metadata": {},
   "outputs": [],
   "source": [
    "with open('./input11.txt', 'r') as file:\n",
    "\n",
    "    software = file.readlines()"
   ]
  },
  {
   "cell_type": "markdown",
   "metadata": {},
   "source": [
    "#### Convert data to list of integers"
   ]
  },
  {
   "cell_type": "code",
   "execution_count": 3,
   "metadata": {},
   "outputs": [],
   "source": [
    "software = list(map(int, software[0].split(',')))"
   ]
  },
  {
   "cell_type": "markdown",
   "metadata": {},
   "source": [
    "## Calculation"
   ]
  },
  {
   "cell_type": "code",
   "execution_count": 4,
   "metadata": {},
   "outputs": [],
   "source": [
    "class intcode_computer(object):\n",
    "    \n",
    "    def __init__(self, data):\n",
    "        \n",
    "        self.data = data\n",
    "        self.data += [0]*100000\n",
    "        self.inputs = []\n",
    "        self.i = 0\n",
    "        self.relative_base = 0\n",
    "        self.done = False\n",
    "\n",
    "    def step(self, input):\n",
    "        self.run = True\n",
    "        self.out = []\n",
    "        input = [input]\n",
    "\n",
    "        while self.run is True:\n",
    "            add = (5-len(str(self.data[self.i])))*'0'\n",
    "            self.data[self.i] = '{0}{1}'.format(add, str(self.data[self.i]))\n",
    "\n",
    "            optcode = self.data[self.i][-2:]\n",
    "            mode1 = self.data[self.i][-3]\n",
    "            mode2 = self.data[self.i][-4]\n",
    "            mode3 = self.data[self.i][-5]\n",
    "\n",
    "            if mode1 == '0' and optcode != '99':\n",
    "                param1 = int(self.data[self.data[self.i+1]])\n",
    "            elif mode1 == '1' and optcode != '99':\n",
    "                param1 = int(self.data[self.i+1])\n",
    "            elif mode1 == '2' and optcode != '99':\n",
    "                param1 = int(self.data[self.data[self.i+1]+self.relative_base])\n",
    "\n",
    "            if optcode == '01':\n",
    "                if mode2 == '0':\n",
    "                    param2 = int(self.data[self.data[self.i+2]])\n",
    "                elif mode2 == '1':\n",
    "                    param2 = int(self.data[self.i+2])\n",
    "                elif mode2 == '2':\n",
    "                    param2 = int(self.data[self.data[self.i+2]+self.relative_base])\n",
    "                    \n",
    "                if mode3 == '0' or mode3 == '1':\n",
    "                    self.data[self.data[self.i+3]] = param1 + param2\n",
    "                elif mode3 == '2':\n",
    "                    self.data[self.data[self.i+3]+self.relative_base] = param1 + param2\n",
    "                self.i += 4\n",
    "\n",
    "            if optcode == '02':\n",
    "                if mode2 == '0':\n",
    "                    param2 = int(self.data[self.data[self.i+2]])\n",
    "                elif mode2 == '1':\n",
    "                    param2 = int(self.data[self.i+2])\n",
    "                elif mode2 == '2':\n",
    "                    param2 = int(self.data[self.data[self.i+2]+self.relative_base])\n",
    "                    \n",
    "                if mode3 == '0' or mode3 == '1':\n",
    "                    self.data[self.data[self.i+3]] = param1 * param2\n",
    "                elif mode3 == '2':\n",
    "                    self.data[self.data[self.i+3]+self.relative_base] = param1 * param2\n",
    "                self.i += 4\n",
    "\n",
    "            if optcode == '03':\n",
    "                if len(input) > 0:\n",
    "                    if mode1 == '0' or mode1 == '1':\n",
    "                        self.data[self.data[self.i+1]] = input[0]\n",
    "                    elif mode1 == '2':\n",
    "                        self.data[self.data[self.i+1]+self.relative_base] = input[0]\n",
    "                    del input[0]\n",
    "                    self.i += 2\n",
    "                else:\n",
    "                    self.run = False\n",
    "                    # print('Waiting for input.')\n",
    "                    break\n",
    "                    \n",
    "            if optcode == '04':\n",
    "                if mode1 == '0':\n",
    "                    self.out.append(self.data[self.data[self.i+1]])\n",
    "                    # print(self.out)\n",
    "                if mode1 == '1':\n",
    "                    self.out.append(self.data[self.i+1])\n",
    "                    # print(self.out)\n",
    "                elif mode1 == '2':\n",
    "                    self.out.append(self.data[self.data[self.i+1]+self.relative_base])\n",
    "                    # print(self.out)\n",
    "                self.i += 2\n",
    "\n",
    "            if optcode == '05':\n",
    "                if mode2 == '0':\n",
    "                    param2 = int(self.data[self.data[self.i+2]])\n",
    "                elif mode2 == '1':\n",
    "                    param2 = int(self.data[self.i+2])\n",
    "                elif mode2 == '2':\n",
    "                    param2 = int(self.data[self.data[self.i+2]+self.relative_base])\n",
    "                if param1 != 0:\n",
    "                    self.i = param2\n",
    "                else:\n",
    "                    self.i += 3\n",
    "\n",
    "            if optcode == '06':\n",
    "                if mode2 == '0':\n",
    "                    param2 = int(self.data[self.data[self.i+2]])\n",
    "                elif mode2 == '1':\n",
    "                    param2 = int(self.data[self.i+2])\n",
    "                elif mode2 == '2':\n",
    "                    param2 = int(self.data[self.data[self.i+2]+self.relative_base])\n",
    "                    \n",
    "                if param1 == 0:\n",
    "                    self.i = param2\n",
    "                else:\n",
    "                    self.i += 3\n",
    "\n",
    "            if optcode == '07':\n",
    "                if mode2 == '0':\n",
    "                    param2 = int(self.data[self.data[self.i+2]])\n",
    "                elif mode2 == '1':\n",
    "                    param2 = int(self.data[self.i+2])\n",
    "                elif mode2 == '2':\n",
    "                    param2 = int(self.data[self.data[self.i+2]+self.relative_base])\n",
    "                    \n",
    "                if param1 < param2:\n",
    "                    if mode3 == '0' or mode3 == '1':\n",
    "                        self.data[self.data[self.i+3]] = 1\n",
    "                    elif mode3 =='2':\n",
    "                        self.data[self.data[self.i+3]+self.relative_base] = 1\n",
    "                else:\n",
    "                    if mode3 == '0' or mode3 == '1':\n",
    "                        self.data[self.data[self.i+3]] = 0\n",
    "                    elif mode3 == '2':\n",
    "                        self.data[self.data[self.i+3]+self.relative_base] = 0\n",
    "                self.i += 4\n",
    "\n",
    "            if optcode == '08':\n",
    "                if mode2 == '0':\n",
    "                    param2 = int(self.data[self.data[self.i+2]])\n",
    "                elif mode2 == '1':\n",
    "                    param2 = int(self.data[self.i+2])\n",
    "                if mode2 == '2':\n",
    "                    param2 = int(self.data[self.data[self.i+2]+self.relative_base])\n",
    "\n",
    "                if param1 == param2:\n",
    "                    if mode3 == '0' or mode3 == '1':\n",
    "                        self.data[self.data[self.i+3]] = 1\n",
    "                    elif mode3 == '2':\n",
    "                        self.data[self.data[self.i+3]+self.relative_base] = 1\n",
    "                else:\n",
    "                    if mode3 == '0' or mode3 == '1':\n",
    "                        self.data[self.data[self.i+3]] = 0\n",
    "                    elif mode3 == '2':\n",
    "                        self.data[self.data[self.i+3]+self.relative_base] = 0\n",
    "                self.i += 4\n",
    "            \n",
    "            if optcode == '09':\n",
    "                self.relative_base += param1\n",
    "                self.i += 2\n",
    "\n",
    "            if optcode == '99':\n",
    "                self.run = False\n",
    "                self.done = True\n",
    "                self.i += 1\n",
    "                \n",
    "        return self.out"
   ]
  },
  {
   "cell_type": "code",
   "execution_count": 5,
   "metadata": {},
   "outputs": [],
   "source": [
    "class robot(object):\n",
    "    \n",
    "    def __init__(self, start_color, width=100, height=100):\n",
    "        \n",
    "        self.width = width\n",
    "        self.height = height\n",
    "        self.area = np.zeros((self.height, self.width), dtype='object')\n",
    "        self.covered = np.zeros((self.height, self.width))\n",
    "        self.position = (int(self.height/2), int(self.width/2))\n",
    "        self.area[self.position] = start_color\n",
    "        self.direction = 'u'\n",
    "        self.turnset = {'u': {'0': 'l', '1': 'r'}, 'l': {'0': 'd', '1': 'u'},\n",
    "                        'd': {'0': 'r', '1': 'l'}, 'r': {'0': 'u', '1': 'd'}}\n",
    "        self.moveset = {'u': (-1, 0), 'd': (1, 0), 'r': (0, 1), 'l': (0, -1)}\n",
    "        self.camera = start_color\n",
    "        \n",
    "    def step(self, color, turn):\n",
    "        \n",
    "        self.area[self.position] = color\n",
    "        self.covered[self.position] = 1\n",
    "        self.direction = self.turnset['{0}'.format(self.direction)]['{0}'.format(turn)]\n",
    "        self.position = tuple(np.add(self.position, self.moveset['{0}'.format(self.direction)]))\n",
    "        self.camera = self.area[self.position]"
   ]
  },
  {
   "cell_type": "code",
   "execution_count": 6,
   "metadata": {
    "scrolled": true
   },
   "outputs": [
    {
     "name": "stdout",
     "output_type": "stream",
     "text": [
      "The number of visited panels is 1785.\n"
     ]
    }
   ],
   "source": [
    "computer = intcode_computer(deepcopy(software))\n",
    "rob = robot(start_color=0, width=200, height=200)\n",
    "while computer.done == False:\n",
    "    output = computer.step(rob.camera)\n",
    "    rob.step(output[0], output[1])\n",
    "    \n",
    "print('The number of visited panels is {0}.'.format(len(np.argwhere(rob.covered>0))))"
   ]
  },
  {
   "cell_type": "markdown",
   "metadata": {},
   "source": [
    "# Puzzle 2: Get the registration identifier"
   ]
  },
  {
   "cell_type": "code",
   "execution_count": 7,
   "metadata": {},
   "outputs": [
    {
     "name": "stdout",
     "output_type": "stream",
     "text": [
      "The number of visited panels is 249.\n"
     ]
    }
   ],
   "source": [
    "computer = intcode_computer(deepcopy(software))\n",
    "rob = robot(start_color=1, width=200, height=200)\n",
    "while computer.done == False:\n",
    "    output = computer.step(rob.camera)\n",
    "    rob.step(output[0], output[1])\n",
    "    \n",
    "print('The number of visited panels is {0}.'.format(len(np.argwhere(rob.covered>0))))"
   ]
  },
  {
   "cell_type": "code",
   "execution_count": 9,
   "metadata": {},
   "outputs": [
    {
     "data": {
      "image/png": "[encoded data removed]",
      "text/plain": [
       "<Figure size 432x288 with 1 Axes>"
      ]
     },
     "metadata": {},
     "output_type": "display_data"
    }
   ],
   "source": [
    "import matplotlib.pyplot as plt\n",
    "\n",
    "plt.imshow(np.array(rob.area, dtype=float))\n",
    "plt.axis('off')\n",
    "plt.show()"
   ]
  },
  {
   "cell_type": "code",
   "execution_count": null,
   "metadata": {},
   "outputs": [],
   "source": []
  }
 ],
 "metadata": {
  "kernelspec": {
   "display_name": "Python 3",
   "language": "python",
   "name": "python3"
  },
  "language_info": {
   "codemirror_mode": {
    "name": "ipython",
    "version": 3
   },
   "file_extension": ".py",
   "mimetype": "text/x-python",
   "name": "python",
   "nbconvert_exporter": "python",
   "pygments_lexer": "ipython3",
   "version": "3.6.4"
  }
 },
 "nbformat": 4,
 "nbformat_minor": 2
}
