{
 "cells": [
  {
   "cell_type": "markdown",
   "metadata": {},
   "source": [
    "# Puzzle 1: Points affected by the tractor beam"
   ]
  },
  {
   "cell_type": "markdown",
   "metadata": {},
   "source": [
    "### intcode input: (X, Y) in [0, 50); intcode return: 0 (stationary) or 1 being pulled"
   ]
  },
  {
   "cell_type": "code",
   "execution_count": 1,
   "metadata": {},
   "outputs": [],
   "source": [
    "import numpy as np\n",
    "import matplotlib.pyplot as plt\n",
    "from copy import deepcopy"
   ]
  },
  {
   "cell_type": "markdown",
   "metadata": {},
   "source": [
    "## Load input"
   ]
  },
  {
   "cell_type": "code",
   "execution_count": 2,
   "metadata": {},
   "outputs": [],
   "source": [
    "with open('./input19.txt', 'r') as file:\n",
    "\n",
    "    software = file.readlines()"
   ]
  },
  {
   "cell_type": "markdown",
   "metadata": {},
   "source": [
    "#### Convert data to list of integers"
   ]
  },
  {
   "cell_type": "code",
   "execution_count": 3,
   "metadata": {},
   "outputs": [],
   "source": [
    "software = list(map(int, software[0].split(',')))"
   ]
  },
  {
   "cell_type": "markdown",
   "metadata": {},
   "source": [
    "## Calculation"
   ]
  },
  {
   "cell_type": "code",
   "execution_count": 4,
   "metadata": {},
   "outputs": [],
   "source": [
    "class intcode_computer(object):\n",
    "    \n",
    "    def __init__(self, data):\n",
    "        \n",
    "        self.data = data\n",
    "        self.data += [0]*100000\n",
    "        self.inputs = []\n",
    "        self.i = 0\n",
    "        self.relative_base = 0\n",
    "        self.done = False\n",
    "\n",
    "    def step(self, computer_input):\n",
    "        self.run = True\n",
    "        self.out = []\n",
    "        if isinstance(computer_input, list):\n",
    "            pass\n",
    "        else:\n",
    "            computer_input = [computer_input]\n",
    "\n",
    "        while self.run is True:\n",
    "            add = (5-len(str(self.data[self.i])))*'0'\n",
    "            self.data[self.i] = '{0}{1}'.format(add, str(self.data[self.i]))\n",
    "\n",
    "            optcode = self.data[self.i][-2:]\n",
    "            mode1 = self.data[self.i][-3]\n",
    "            mode2 = self.data[self.i][-4]\n",
    "            mode3 = self.data[self.i][-5]\n",
    "\n",
    "            if mode1 == '0' and optcode != '99':\n",
    "                param1 = int(self.data[self.data[self.i+1]])\n",
    "            elif mode1 == '1' and optcode != '99':\n",
    "                param1 = int(self.data[self.i+1])\n",
    "            elif mode1 == '2' and optcode != '99':\n",
    "                param1 = int(self.data[self.data[self.i+1]+self.relative_base])\n",
    "\n",
    "            if optcode == '01':\n",
    "                if mode2 == '0':\n",
    "                    param2 = int(self.data[self.data[self.i+2]])\n",
    "                elif mode2 == '1':\n",
    "                    param2 = int(self.data[self.i+2])\n",
    "                elif mode2 == '2':\n",
    "                    param2 = int(self.data[self.data[self.i+2]+self.relative_base])\n",
    "                    \n",
    "                if mode3 == '0' or mode3 == '1':\n",
    "                    self.data[self.data[self.i+3]] = param1 + param2\n",
    "                elif mode3 == '2':\n",
    "                    self.data[self.data[self.i+3]+self.relative_base] = param1 + param2\n",
    "                self.i += 4\n",
    "\n",
    "            if optcode == '02':\n",
    "                if mode2 == '0':\n",
    "                    param2 = int(self.data[self.data[self.i+2]])\n",
    "                elif mode2 == '1':\n",
    "                    param2 = int(self.data[self.i+2])\n",
    "                elif mode2 == '2':\n",
    "                    param2 = int(self.data[self.data[self.i+2]+self.relative_base])\n",
    "                    \n",
    "                if mode3 == '0' or mode3 == '1':\n",
    "                    self.data[self.data[self.i+3]] = param1 * param2\n",
    "                elif mode3 == '2':\n",
    "                    self.data[self.data[self.i+3]+self.relative_base] = param1 * param2\n",
    "                self.i += 4\n",
    "\n",
    "            if optcode == '03':\n",
    "                if len(computer_input) > 0:\n",
    "                    if mode1 == '0' or mode1 == '1':\n",
    "                        self.data[self.data[self.i+1]] = computer_input[0]\n",
    "                    elif mode1 == '2':\n",
    "                        self.data[self.data[self.i+1]+self.relative_base] = computer_input[0]\n",
    "                    del computer_input[0]\n",
    "                    self.i += 2\n",
    "                else:\n",
    "                    self.run = False\n",
    "                    print('Waiting for input.')\n",
    "                    break\n",
    "                    \n",
    "            if optcode == '04':\n",
    "                if mode1 == '0':\n",
    "                    self.out.append(self.data[self.data[self.i+1]])\n",
    "                    # print(self.out)\n",
    "                if mode1 == '1':\n",
    "                    self.out.append(self.data[self.i+1])\n",
    "                    # print(self.out)\n",
    "                elif mode1 == '2':\n",
    "                    self.out.append(self.data[self.data[self.i+1]+self.relative_base])\n",
    "                    # print(self.out)\n",
    "                self.i += 2\n",
    "\n",
    "            if optcode == '05':\n",
    "                if mode2 == '0':\n",
    "                    param2 = int(self.data[self.data[self.i+2]])\n",
    "                elif mode2 == '1':\n",
    "                    param2 = int(self.data[self.i+2])\n",
    "                elif mode2 == '2':\n",
    "                    param2 = int(self.data[self.data[self.i+2]+self.relative_base])\n",
    "                if param1 != 0:\n",
    "                    self.i = param2\n",
    "                else:\n",
    "                    self.i += 3\n",
    "\n",
    "            if optcode == '06':\n",
    "                if mode2 == '0':\n",
    "                    param2 = int(self.data[self.data[self.i+2]])\n",
    "                elif mode2 == '1':\n",
    "                    param2 = int(self.data[self.i+2])\n",
    "                elif mode2 == '2':\n",
    "                    param2 = int(self.data[self.data[self.i+2]+self.relative_base])\n",
    "                    \n",
    "                if param1 == 0:\n",
    "                    self.i = param2\n",
    "                else:\n",
    "                    self.i += 3\n",
    "\n",
    "            if optcode == '07':\n",
    "                if mode2 == '0':\n",
    "                    param2 = int(self.data[self.data[self.i+2]])\n",
    "                elif mode2 == '1':\n",
    "                    param2 = int(self.data[self.i+2])\n",
    "                elif mode2 == '2':\n",
    "                    param2 = int(self.data[self.data[self.i+2]+self.relative_base])\n",
    "                    \n",
    "                if param1 < param2:\n",
    "                    if mode3 == '0' or mode3 == '1':\n",
    "                        self.data[self.data[self.i+3]] = 1\n",
    "                    elif mode3 =='2':\n",
    "                        self.data[self.data[self.i+3]+self.relative_base] = 1\n",
    "                else:\n",
    "                    if mode3 == '0' or mode3 == '1':\n",
    "                        self.data[self.data[self.i+3]] = 0\n",
    "                    elif mode3 == '2':\n",
    "                        self.data[self.data[self.i+3]+self.relative_base] = 0\n",
    "                self.i += 4\n",
    "\n",
    "            if optcode == '08':\n",
    "                if mode2 == '0':\n",
    "                    param2 = int(self.data[self.data[self.i+2]])\n",
    "                elif mode2 == '1':\n",
    "                    param2 = int(self.data[self.i+2])\n",
    "                if mode2 == '2':\n",
    "                    param2 = int(self.data[self.data[self.i+2]+self.relative_base])\n",
    "\n",
    "                if param1 == param2:\n",
    "                    if mode3 == '0' or mode3 == '1':\n",
    "                        self.data[self.data[self.i+3]] = 1\n",
    "                    elif mode3 == '2':\n",
    "                        self.data[self.data[self.i+3]+self.relative_base] = 1\n",
    "                else:\n",
    "                    if mode3 == '0' or mode3 == '1':\n",
    "                        self.data[self.data[self.i+3]] = 0\n",
    "                    elif mode3 == '2':\n",
    "                        self.data[self.data[self.i+3]+self.relative_base] = 0\n",
    "                self.i += 4\n",
    "            \n",
    "            if optcode == '09':\n",
    "                self.relative_base += param1\n",
    "                self.i += 2\n",
    "\n",
    "            if optcode == '99':\n",
    "                self.run = False\n",
    "                self.done = True\n",
    "                self.i += 1\n",
    "                \n",
    "        return self.out"
   ]
  },
  {
   "cell_type": "code",
   "execution_count": 19,
   "metadata": {},
   "outputs": [],
   "source": [
    "class beam(object):\n",
    "    \n",
    "    def __init__(self, shape_beam=(50, 50), shape_rect=(100, 100)):\n",
    "        self.tractor_beam = np.zeros(shape_beam)\n",
    "        self.rectangle = shape_rect\n",
    "        self.rect_start = (0,0)\n",
    "        \n",
    "    def beam_effect(self):\n",
    "        self.stationary = np.argwhere(self.tractor_beam == 0)\n",
    "        self.pulled = np.argwhere(self.tractor_beam == 1)\n",
    "        \n",
    "    def render_beam(self):\n",
    "        %matplotlib qt\n",
    "        \n",
    "        self.beam_effect()\n",
    "        # plt.plot(self.stationary[:, 1], abs(self.stationary[:, 0]), '.')\n",
    "        plt.plot(self.pulled[:, 1], abs(self.pulled[:, 0]), '.')\n",
    "    \n",
    "    def render_rect(self):\n",
    "        %matplotlib qt\n",
    "        \n",
    "        self.beam_effect()\n",
    "        plt.plot(self.pulled[:, 1], abs(self.pulled[:, 0]), '.')\n",
    "        plt.plot(self.rect_start[1], self.rect_start[0], 'o')\n",
    "        plt.plot(self.rect_start[1]+self.rectangle[1], self.rect_start[0], 'o')\n",
    "        plt.plot(self.rect_start[1], self.rect_start[0]+self.rectangle[0], 'o')\n",
    "        plt.plot(self.rect_start[1]+self.rectangle[1], self.rect_start[0]+self.rectangle[0], 'o')\n",
    "        \n",
    "    def check_rectangle_inside(self, x, y):\n",
    "        if self.tractor_beam[y, x] == 1 and self.tractor_beam[y+(self.rectangle[0]-1), x-(self.rectangle[1]-1)] == 1:\n",
    "            self.rect_start = (y, x-(self.rectangle[1]-1))\n",
    "            return True"
   ]
  },
  {
   "cell_type": "code",
   "execution_count": 6,
   "metadata": {
    "scrolled": true
   },
   "outputs": [
    {
     "name": "stdout",
     "output_type": "stream",
     "text": [
      "The beam effects a number of 152 points.\n"
     ]
    }
   ],
   "source": [
    "tb = beam()\n",
    "for x in range(0, tb.tractor_beam.shape[1]):\n",
    "    for y in range(0, tb.tractor_beam.shape[0]):\n",
    "        computer = intcode_computer(deepcopy(software))\n",
    "        tb.tractor_beam[y, x] = computer.step([x, y])[0]\n",
    "        if tb.tractor_beam[y, x] == 0 and tb.tractor_beam[y-1, x] == 1:\n",
    "            break\n",
    "tb.render_beam()\n",
    "print('The beam effects a number of {0} points.'.format(len(tb.pulled)))"
   ]
  },
  {
   "cell_type": "markdown",
   "metadata": {},
   "source": [
    "# Puzzle 2: Fit Santa's ship into the beam (100x100)"
   ]
  },
  {
   "cell_type": "code",
   "execution_count": 23,
   "metadata": {
    "scrolled": true
   },
   "outputs": [
    {
     "name": "stdout",
     "output_type": "stream",
     "text": [
      "The solution is 1073411.\n"
     ]
    }
   ],
   "source": [
    "tb = beam(shape_beam=(3000, 3000), shape_rect=(100, 100))\n",
    "done = False\n",
    "\n",
    "for x in range(0, tb.tractor_beam.shape[1]):\n",
    "    for y in range(0, tb.tractor_beam.shape[0]):\n",
    "        computer = intcode_computer(deepcopy(software))\n",
    "        tb.tractor_beam[y, x] = computer.step([x, y])[0]\n",
    "        if tb.tractor_beam[y, x] == 1 and tb.tractor_beam[y-1, x] == 0:\n",
    "            done = tb.check_rectangle_inside(x, y)\n",
    "            if done == True:\n",
    "                break\n",
    "        if tb.tractor_beam[y, x] == 0 and tb.tractor_beam[y-1, x] == 1:\n",
    "            break\n",
    "    if done == True:\n",
    "        break\n",
    "\n",
    "tb.render_rect()\n",
    "print('The solution is {0}.'.format(tb.rect_start[0]+1000*tb.rect_start[1]))"
   ]
  },
  {
   "cell_type": "code",
   "execution_count": null,
   "metadata": {},
   "outputs": [],
   "source": []
  }
 ],
 "metadata": {
  "kernelspec": {
   "display_name": "Python 3",
   "language": "python",
   "name": "python3"
  },
  "language_info": {
   "codemirror_mode": {
    "name": "ipython",
    "version": 3
   },
   "file_extension": ".py",
   "mimetype": "text/x-python",
   "name": "python",
   "nbconvert_exporter": "python",
   "pygments_lexer": "ipython3",
   "version": "3.6.4"
  }
 },
 "nbformat": 4,
 "nbformat_minor": 2
}
