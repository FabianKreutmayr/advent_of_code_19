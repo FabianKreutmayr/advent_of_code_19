{
 "cells": [
  {
   "cell_type": "markdown",
   "metadata": {},
   "source": [
    "# Puzzle 1: Calibrate cameras by using alignment parameters"
   ]
  },
  {
   "cell_type": "markdown",
   "metadata": {},
   "source": [
    "### intcode output: 35 --> # (scaffold), 46 --> . (empty), 10 --> newline; robot: triangle in a certain direction or X (falling); calculate sum(alignment_params) with alignment_param = x*y "
   ]
  },
  {
   "cell_type": "code",
   "execution_count": 1,
   "metadata": {},
   "outputs": [],
   "source": [
    "import numpy as np\n",
    "import matplotlib.pyplot as plt\n",
    "from copy import deepcopy"
   ]
  },
  {
   "cell_type": "markdown",
   "metadata": {},
   "source": [
    "## Load input"
   ]
  },
  {
   "cell_type": "code",
   "execution_count": 2,
   "metadata": {},
   "outputs": [],
   "source": [
    "with open('./input17.txt', 'r') as file:\n",
    "\n",
    "    software = file.readlines()"
   ]
  },
  {
   "cell_type": "markdown",
   "metadata": {},
   "source": [
    "#### Convert data to list of integers"
   ]
  },
  {
   "cell_type": "code",
   "execution_count": 3,
   "metadata": {},
   "outputs": [],
   "source": [
    "software = list(map(int, software[0].split(',')))"
   ]
  },
  {
   "cell_type": "markdown",
   "metadata": {},
   "source": [
    "## Calculation"
   ]
  },
  {
   "cell_type": "code",
   "execution_count": 50,
   "metadata": {},
   "outputs": [],
   "source": [
    "class intcode_computer(object):\n",
    "    \n",
    "    def __init__(self, data):\n",
    "        \n",
    "        self.data = data\n",
    "        self.data += [0]*100000\n",
    "        self.inputs = []\n",
    "        self.i = 0\n",
    "        self.relative_base = 0\n",
    "        self.done = False\n",
    "\n",
    "    def step(self, computer_input):\n",
    "        self.run = True\n",
    "        self.out = []\n",
    "        if isinstance(computer_input, list):\n",
    "            pass\n",
    "        else:\n",
    "            computer_input = [computer_input]\n",
    "\n",
    "        while self.run is True:\n",
    "            add = (5-len(str(self.data[self.i])))*'0'\n",
    "            self.data[self.i] = '{0}{1}'.format(add, str(self.data[self.i]))\n",
    "\n",
    "            optcode = self.data[self.i][-2:]\n",
    "            mode1 = self.data[self.i][-3]\n",
    "            mode2 = self.data[self.i][-4]\n",
    "            mode3 = self.data[self.i][-5]\n",
    "\n",
    "            if mode1 == '0' and optcode != '99':\n",
    "                param1 = int(self.data[self.data[self.i+1]])\n",
    "            elif mode1 == '1' and optcode != '99':\n",
    "                param1 = int(self.data[self.i+1])\n",
    "            elif mode1 == '2' and optcode != '99':\n",
    "                param1 = int(self.data[self.data[self.i+1]+self.relative_base])\n",
    "\n",
    "            if optcode == '01':\n",
    "                if mode2 == '0':\n",
    "                    param2 = int(self.data[self.data[self.i+2]])\n",
    "                elif mode2 == '1':\n",
    "                    param2 = int(self.data[self.i+2])\n",
    "                elif mode2 == '2':\n",
    "                    param2 = int(self.data[self.data[self.i+2]+self.relative_base])\n",
    "                    \n",
    "                if mode3 == '0' or mode3 == '1':\n",
    "                    self.data[self.data[self.i+3]] = param1 + param2\n",
    "                elif mode3 == '2':\n",
    "                    self.data[self.data[self.i+3]+self.relative_base] = param1 + param2\n",
    "                self.i += 4\n",
    "\n",
    "            if optcode == '02':\n",
    "                if mode2 == '0':\n",
    "                    param2 = int(self.data[self.data[self.i+2]])\n",
    "                elif mode2 == '1':\n",
    "                    param2 = int(self.data[self.i+2])\n",
    "                elif mode2 == '2':\n",
    "                    param2 = int(self.data[self.data[self.i+2]+self.relative_base])\n",
    "                    \n",
    "                if mode3 == '0' or mode3 == '1':\n",
    "                    self.data[self.data[self.i+3]] = param1 * param2\n",
    "                elif mode3 == '2':\n",
    "                    self.data[self.data[self.i+3]+self.relative_base] = param1 * param2\n",
    "                self.i += 4\n",
    "\n",
    "            if optcode == '03':\n",
    "                if len(computer_input) > 0:\n",
    "                    if mode1 == '0' or mode1 == '1':\n",
    "                        self.data[self.data[self.i+1]] = computer_input[0]\n",
    "                    elif mode1 == '2':\n",
    "                        self.data[self.data[self.i+1]+self.relative_base] = computer_input[0]\n",
    "                    del computer_input[0]\n",
    "                    self.i += 2\n",
    "                else:\n",
    "                    self.run = False\n",
    "                    print('Waiting for input.')\n",
    "                    break\n",
    "                    \n",
    "            if optcode == '04':\n",
    "                if mode1 == '0':\n",
    "                    self.out.append(self.data[self.data[self.i+1]])\n",
    "                    # print(self.out)\n",
    "                if mode1 == '1':\n",
    "                    self.out.append(self.data[self.i+1])\n",
    "                    # print(self.out)\n",
    "                elif mode1 == '2':\n",
    "                    self.out.append(self.data[self.data[self.i+1]+self.relative_base])\n",
    "                    # print(self.out)\n",
    "                self.i += 2\n",
    "\n",
    "            if optcode == '05':\n",
    "                if mode2 == '0':\n",
    "                    param2 = int(self.data[self.data[self.i+2]])\n",
    "                elif mode2 == '1':\n",
    "                    param2 = int(self.data[self.i+2])\n",
    "                elif mode2 == '2':\n",
    "                    param2 = int(self.data[self.data[self.i+2]+self.relative_base])\n",
    "                if param1 != 0:\n",
    "                    self.i = param2\n",
    "                else:\n",
    "                    self.i += 3\n",
    "\n",
    "            if optcode == '06':\n",
    "                if mode2 == '0':\n",
    "                    param2 = int(self.data[self.data[self.i+2]])\n",
    "                elif mode2 == '1':\n",
    "                    param2 = int(self.data[self.i+2])\n",
    "                elif mode2 == '2':\n",
    "                    param2 = int(self.data[self.data[self.i+2]+self.relative_base])\n",
    "                    \n",
    "                if param1 == 0:\n",
    "                    self.i = param2\n",
    "                else:\n",
    "                    self.i += 3\n",
    "\n",
    "            if optcode == '07':\n",
    "                if mode2 == '0':\n",
    "                    param2 = int(self.data[self.data[self.i+2]])\n",
    "                elif mode2 == '1':\n",
    "                    param2 = int(self.data[self.i+2])\n",
    "                elif mode2 == '2':\n",
    "                    param2 = int(self.data[self.data[self.i+2]+self.relative_base])\n",
    "                    \n",
    "                if param1 < param2:\n",
    "                    if mode3 == '0' or mode3 == '1':\n",
    "                        self.data[self.data[self.i+3]] = 1\n",
    "                    elif mode3 =='2':\n",
    "                        self.data[self.data[self.i+3]+self.relative_base] = 1\n",
    "                else:\n",
    "                    if mode3 == '0' or mode3 == '1':\n",
    "                        self.data[self.data[self.i+3]] = 0\n",
    "                    elif mode3 == '2':\n",
    "                        self.data[self.data[self.i+3]+self.relative_base] = 0\n",
    "                self.i += 4\n",
    "\n",
    "            if optcode == '08':\n",
    "                if mode2 == '0':\n",
    "                    param2 = int(self.data[self.data[self.i+2]])\n",
    "                elif mode2 == '1':\n",
    "                    param2 = int(self.data[self.i+2])\n",
    "                if mode2 == '2':\n",
    "                    param2 = int(self.data[self.data[self.i+2]+self.relative_base])\n",
    "\n",
    "                if param1 == param2:\n",
    "                    if mode3 == '0' or mode3 == '1':\n",
    "                        self.data[self.data[self.i+3]] = 1\n",
    "                    elif mode3 == '2':\n",
    "                        self.data[self.data[self.i+3]+self.relative_base] = 1\n",
    "                else:\n",
    "                    if mode3 == '0' or mode3 == '1':\n",
    "                        self.data[self.data[self.i+3]] = 0\n",
    "                    elif mode3 == '2':\n",
    "                        self.data[self.data[self.i+3]+self.relative_base] = 0\n",
    "                self.i += 4\n",
    "            \n",
    "            if optcode == '09':\n",
    "                self.relative_base += param1\n",
    "                self.i += 2\n",
    "\n",
    "            if optcode == '99':\n",
    "                self.run = False\n",
    "                self.done = True\n",
    "                self.i += 1\n",
    "                \n",
    "        return self.out"
   ]
  },
  {
   "cell_type": "code",
   "execution_count": 51,
   "metadata": {},
   "outputs": [],
   "source": [
    "class camera(object):\n",
    "    \n",
    "    def __init__(self):\n",
    "        self.image = []\n",
    "        self.string = ''\n",
    "        \n",
    "    def build_image(self, camera_out):\n",
    "        self.image = []\n",
    "        line = []\n",
    "        end = 0\n",
    "        for i in camera_out:\n",
    "            char = chr(i)\n",
    "            if end < 2:\n",
    "                if char == '\\n' and len(line) > 0:\n",
    "                    self.image.append(line)\n",
    "                    line = []\n",
    "                    end += 1\n",
    "                elif char == '\\n' and len(line) == 0:\n",
    "                    end += 1\n",
    "                else:\n",
    "                    line.append(char)\n",
    "                    end = 0\n",
    "            else:\n",
    "                self.string += char\n",
    "        self.image = np.vstack(self.image)\n",
    "        print(self.string)\n",
    "        \n",
    "    def find_intersections(self):\n",
    "        self.tile_positions()\n",
    "        temp = map(tuple, cam.scaffold_tiles)\n",
    "        temp = set(temp)\n",
    "        for scaff_y, scaff_x in self.scaffold_tiles:\n",
    "            isintersection = 0\n",
    "            for y, x in [(1, 0), (-1, 0), (0, 1), (0, -1)]:\n",
    "                if (scaff_y+y, scaff_x+x) in temp:\n",
    "                    isintersection += 1\n",
    "                else:\n",
    "                    break\n",
    "            if isintersection == 4:\n",
    "                self.image[scaff_y, scaff_x] = 'O'\n",
    "        self.intersections =  np.argwhere(self.image == 'O')\n",
    "        \n",
    "    def calculate_alignment_sum(self):\n",
    "        self.find_intersections()\n",
    "        alignment_sum = 0\n",
    "        for y, x in self.intersections:\n",
    "            alignment_sum += x*y\n",
    "        \n",
    "        return alignment_sum\n",
    "                \n",
    "    def tile_positions(self):\n",
    "        self.empty_tiles = np.argwhere(self.image == '.')\n",
    "        self.scaffold_tiles = np.argwhere(self.image == '#')\n",
    "        self.robot_up = np.argwhere(self.image == '^')\n",
    "        self.robot_down = np.argwhere(self.image == 'v')\n",
    "        self.robot_left = np.argwhere(self.image == '<')\n",
    "        self.robot_right = np.argwhere(self.image == '>')\n",
    "        self.robot_fall = np.argwhere(self.image == 'X')\n",
    "        self.intersections =  np.argwhere(self.image == 'O')\n",
    "        \n",
    "    def render_image(self):\n",
    "        %matplotlib qt\n",
    "        \n",
    "        self.tile_positions()\n",
    "        plt.plot(self.scaffold_tiles[:, 1], abs(self.scaffold_tiles[:, 0]), 's')\n",
    "        plt.plot(self.empty_tiles[:, 1], abs(self.empty_tiles[:, 0]), '.')\n",
    "        plt.plot(self.robot_up[:, 1], abs(self.robot_up[:, 0]), '^')\n",
    "        plt.plot(self.robot_down[:, 1], abs(self.robot_down[:, 0]), 'v')\n",
    "        plt.plot(self.robot_left[:, 1], abs(self.robot_left[:, 0]), '<')\n",
    "        plt.plot(self.robot_right[:, 1], abs(self.robot_right[:, 0]), '>')\n",
    "        plt.plot(self.robot_fall[:, 1], abs(self.robot_fall[:, 0]), 'X')\n",
    "        plt.plot(self.intersections[:, 1], abs(self.intersections[:, 0]), 'sg')\n",
    "        plt.gca().invert_yaxis()\n",
    "        plt.axis('off')\n",
    "        plt.pause(.5)\n",
    "        plt.show()"
   ]
  },
  {
   "cell_type": "code",
   "execution_count": 52,
   "metadata": {
    "scrolled": true
   },
   "outputs": [
    {
     "name": "stdout",
     "output_type": "stream",
     "text": [
      "\n",
      "The sum of alignment parameters is 10064.\n"
     ]
    }
   ],
   "source": [
    "computer = intcode_computer(deepcopy(software))\n",
    "cam = camera()\n",
    "output = computer.step([])\n",
    "cam.build_image(output)\n",
    "alignment_sum = cam.calculate_alignment_sum()\n",
    "cam.render_image()\n",
    "\n",
    "print('The sum of alignment parameters is {0}.'.format(alignment_sum))"
   ]
  },
  {
   "cell_type": "markdown",
   "metadata": {},
   "source": [
    "# Puzzle 2: Notify other robots and collect dust"
   ]
  },
  {
   "cell_type": "code",
   "execution_count": 53,
   "metadata": {},
   "outputs": [],
   "source": [
    "computer = intcode_computer(deepcopy(software))\n",
    "computer.data[0]=2\n",
    "cam = camera()"
   ]
  },
  {
   "cell_type": "markdown",
   "metadata": {},
   "source": [
    "Main: 65 44 65 44 66 44 67 44 66 44 67 44 66 44 67 44 66 44 65 10\n",
    "A: 76 44 49 48 44 76 44 56 44 82 44 56 44 76 44 56 44 82 44 54 10\n",
    "B: 82 44 54 44 82 44 56 44 82 44 56 10\n",
    "C: 82 44 54 44 82 44 54 44 76 44 56 44 76 44 49 48 10"
   ]
  },
  {
   "cell_type": "code",
   "execution_count": 54,
   "metadata": {
    "scrolled": true
   },
   "outputs": [
    {
     "name": "stdout",
     "output_type": "stream",
     "text": [
      "Waiting for input.\n",
      "65 44 65 44 66 44 67 44 66 44 67 44 66 44 67 44 66 44 65 10\n",
      "Waiting for input.\n",
      "76 44 49 48 44 76 44 56 44 82 44 56 44 76 44 56 44 82 44 54 10\n",
      "Waiting for input.\n",
      "82 44 54 44 82 44 56 44 82 44 56 10\n",
      "Waiting for input.\n",
      "82 44 54 44 82 44 54 44 76 44 56 44 76 44 49 48 10\n",
      "Waiting for input.\n",
      "10\n",
      "Waiting for input.\n",
      "10\n",
      "110 10\n",
      "The dust counter is 1197725\n"
     ]
    }
   ],
   "source": [
    "computer_input = []\n",
    "while computer.done == False:\n",
    "    output = computer.step(computer_input)\n",
    "    computer_input = []\n",
    "    last_in = 0\n",
    "    last_in = input()\n",
    "    computer_input = list(map(int, last_in.split(' ')))\n",
    "print('The dust counter is {0}'.format(output[-1]))\n"
   ]
  },
  {
   "cell_type": "code",
   "execution_count": null,
   "metadata": {},
   "outputs": [],
   "source": []
  }
 ],
 "metadata": {
  "kernelspec": {
   "display_name": "Python 3",
   "language": "python",
   "name": "python3"
  },
  "language_info": {
   "codemirror_mode": {
    "name": "ipython",
    "version": 3
   },
   "file_extension": ".py",
   "mimetype": "text/x-python",
   "name": "python",
   "nbconvert_exporter": "python",
   "pygments_lexer": "ipython3",
   "version": "3.6.4"
  }
 },
 "nbformat": 4,
 "nbformat_minor": 2
}
