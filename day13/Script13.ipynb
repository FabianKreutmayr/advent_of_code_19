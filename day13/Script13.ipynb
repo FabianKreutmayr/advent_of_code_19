{
 "cells": [
  {
   "cell_type": "markdown",
   "metadata": {},
   "source": [
    "# Puzzle 1: Build an arcade"
   ]
  },
  {
   "cell_type": "markdown",
   "metadata": {},
   "source": [
    "### 0 --> empty tile; 1 --> wall tile; 2 --> block tile; 3 --> horizontal paddle; 4 --> ball tile; (x,  y, tile)"
   ]
  },
  {
   "cell_type": "code",
   "execution_count": 1,
   "metadata": {},
   "outputs": [],
   "source": [
    "import numpy as np\n",
    "import matplotlib.pyplot as plt\n",
    "from copy import deepcopy"
   ]
  },
  {
   "cell_type": "markdown",
   "metadata": {},
   "source": [
    "## Load input"
   ]
  },
  {
   "cell_type": "code",
   "execution_count": 2,
   "metadata": {},
   "outputs": [],
   "source": [
    "with open('./input13.txt', 'r') as file:\n",
    "\n",
    "    software = file.readlines()"
   ]
  },
  {
   "cell_type": "markdown",
   "metadata": {},
   "source": [
    "#### Convert data to list of integers"
   ]
  },
  {
   "cell_type": "code",
   "execution_count": 3,
   "metadata": {},
   "outputs": [],
   "source": [
    "software = list(map(int, software[0].split(',')))"
   ]
  },
  {
   "cell_type": "markdown",
   "metadata": {},
   "source": [
    "## Calculation"
   ]
  },
  {
   "cell_type": "code",
   "execution_count": 4,
   "metadata": {},
   "outputs": [],
   "source": [
    "class intcode_computer(object):\n",
    "    \n",
    "    def __init__(self, data):\n",
    "        \n",
    "        self.data = data\n",
    "        self.data += [0]*100000\n",
    "        self.inputs = []\n",
    "        self.i = 0\n",
    "        self.relative_base = 0\n",
    "        self.done = False\n",
    "\n",
    "    def step(self, input):\n",
    "        self.run = True\n",
    "        self.out = []\n",
    "        input = [input]\n",
    "\n",
    "        while self.run is True:\n",
    "            add = (5-len(str(self.data[self.i])))*'0'\n",
    "            self.data[self.i] = '{0}{1}'.format(add, str(self.data[self.i]))\n",
    "\n",
    "            optcode = self.data[self.i][-2:]\n",
    "            mode1 = self.data[self.i][-3]\n",
    "            mode2 = self.data[self.i][-4]\n",
    "            mode3 = self.data[self.i][-5]\n",
    "\n",
    "            if mode1 == '0' and optcode != '99':\n",
    "                param1 = int(self.data[self.data[self.i+1]])\n",
    "            elif mode1 == '1' and optcode != '99':\n",
    "                param1 = int(self.data[self.i+1])\n",
    "            elif mode1 == '2' and optcode != '99':\n",
    "                param1 = int(self.data[self.data[self.i+1]+self.relative_base])\n",
    "\n",
    "            if optcode == '01':\n",
    "                if mode2 == '0':\n",
    "                    param2 = int(self.data[self.data[self.i+2]])\n",
    "                elif mode2 == '1':\n",
    "                    param2 = int(self.data[self.i+2])\n",
    "                elif mode2 == '2':\n",
    "                    param2 = int(self.data[self.data[self.i+2]+self.relative_base])\n",
    "                    \n",
    "                if mode3 == '0' or mode3 == '1':\n",
    "                    self.data[self.data[self.i+3]] = param1 + param2\n",
    "                elif mode3 == '2':\n",
    "                    self.data[self.data[self.i+3]+self.relative_base] = param1 + param2\n",
    "                self.i += 4\n",
    "\n",
    "            if optcode == '02':\n",
    "                if mode2 == '0':\n",
    "                    param2 = int(self.data[self.data[self.i+2]])\n",
    "                elif mode2 == '1':\n",
    "                    param2 = int(self.data[self.i+2])\n",
    "                elif mode2 == '2':\n",
    "                    param2 = int(self.data[self.data[self.i+2]+self.relative_base])\n",
    "                    \n",
    "                if mode3 == '0' or mode3 == '1':\n",
    "                    self.data[self.data[self.i+3]] = param1 * param2\n",
    "                elif mode3 == '2':\n",
    "                    self.data[self.data[self.i+3]+self.relative_base] = param1 * param2\n",
    "                self.i += 4\n",
    "\n",
    "            if optcode == '03':\n",
    "                if len(input) > 0:\n",
    "                    if mode1 == '0' or mode1 == '1':\n",
    "                        self.data[self.data[self.i+1]] = input[0]\n",
    "                    elif mode1 == '2':\n",
    "                        self.data[self.data[self.i+1]+self.relative_base] = input[0]\n",
    "                    del input[0]\n",
    "                    self.i += 2\n",
    "                else:\n",
    "                    self.run = False\n",
    "                    # print('Waiting for input.')\n",
    "                    break\n",
    "                    \n",
    "            if optcode == '04':\n",
    "                if mode1 == '0':\n",
    "                    self.out.append(self.data[self.data[self.i+1]])\n",
    "                    # print(self.out)\n",
    "                if mode1 == '1':\n",
    "                    self.out.append(self.data[self.i+1])\n",
    "                    # print(self.out)\n",
    "                elif mode1 == '2':\n",
    "                    self.out.append(self.data[self.data[self.i+1]+self.relative_base])\n",
    "                    # print(self.out)\n",
    "                self.i += 2\n",
    "\n",
    "            if optcode == '05':\n",
    "                if mode2 == '0':\n",
    "                    param2 = int(self.data[self.data[self.i+2]])\n",
    "                elif mode2 == '1':\n",
    "                    param2 = int(self.data[self.i+2])\n",
    "                elif mode2 == '2':\n",
    "                    param2 = int(self.data[self.data[self.i+2]+self.relative_base])\n",
    "                if param1 != 0:\n",
    "                    self.i = param2\n",
    "                else:\n",
    "                    self.i += 3\n",
    "\n",
    "            if optcode == '06':\n",
    "                if mode2 == '0':\n",
    "                    param2 = int(self.data[self.data[self.i+2]])\n",
    "                elif mode2 == '1':\n",
    "                    param2 = int(self.data[self.i+2])\n",
    "                elif mode2 == '2':\n",
    "                    param2 = int(self.data[self.data[self.i+2]+self.relative_base])\n",
    "                    \n",
    "                if param1 == 0:\n",
    "                    self.i = param2\n",
    "                else:\n",
    "                    self.i += 3\n",
    "\n",
    "            if optcode == '07':\n",
    "                if mode2 == '0':\n",
    "                    param2 = int(self.data[self.data[self.i+2]])\n",
    "                elif mode2 == '1':\n",
    "                    param2 = int(self.data[self.i+2])\n",
    "                elif mode2 == '2':\n",
    "                    param2 = int(self.data[self.data[self.i+2]+self.relative_base])\n",
    "                    \n",
    "                if param1 < param2:\n",
    "                    if mode3 == '0' or mode3 == '1':\n",
    "                        self.data[self.data[self.i+3]] = 1\n",
    "                    elif mode3 =='2':\n",
    "                        self.data[self.data[self.i+3]+self.relative_base] = 1\n",
    "                else:\n",
    "                    if mode3 == '0' or mode3 == '1':\n",
    "                        self.data[self.data[self.i+3]] = 0\n",
    "                    elif mode3 == '2':\n",
    "                        self.data[self.data[self.i+3]+self.relative_base] = 0\n",
    "                self.i += 4\n",
    "\n",
    "            if optcode == '08':\n",
    "                if mode2 == '0':\n",
    "                    param2 = int(self.data[self.data[self.i+2]])\n",
    "                elif mode2 == '1':\n",
    "                    param2 = int(self.data[self.i+2])\n",
    "                if mode2 == '2':\n",
    "                    param2 = int(self.data[self.data[self.i+2]+self.relative_base])\n",
    "\n",
    "                if param1 == param2:\n",
    "                    if mode3 == '0' or mode3 == '1':\n",
    "                        self.data[self.data[self.i+3]] = 1\n",
    "                    elif mode3 == '2':\n",
    "                        self.data[self.data[self.i+3]+self.relative_base] = 1\n",
    "                else:\n",
    "                    if mode3 == '0' or mode3 == '1':\n",
    "                        self.data[self.data[self.i+3]] = 0\n",
    "                    elif mode3 == '2':\n",
    "                        self.data[self.data[self.i+3]+self.relative_base] = 0\n",
    "                self.i += 4\n",
    "            \n",
    "            if optcode == '09':\n",
    "                self.relative_base += param1\n",
    "                self.i += 2\n",
    "\n",
    "            if optcode == '99':\n",
    "                self.run = False\n",
    "                self.done = True\n",
    "                self.i += 1\n",
    "                \n",
    "        return self.out"
   ]
  },
  {
   "cell_type": "code",
   "execution_count": 28,
   "metadata": {},
   "outputs": [],
   "source": [
    "class arcade(object):\n",
    "    \n",
    "    def __init__(self):\n",
    "        self.screen = np.empty((0, 0), dtype=object)\n",
    "        self.tile_dict = {'0': ' ', '1': 'w', '2': 'b', '3': '-', '4': 'o'}\n",
    "        self.joystick = {'left': -1, 'right': 1, 'neutral': 0}\n",
    "        self.control = 0\n",
    "        self.score = 0\n",
    "        \n",
    "    def build_screen(self, screen_details):\n",
    "        x = screen_details[0::3]\n",
    "        y = screen_details[1::3]\n",
    "        tile_ids = screen_details[2::3]\n",
    "        x_max = max(x)+1\n",
    "        y_max = max(y)+1\n",
    "        if len(self.screen) == 0:\n",
    "            self.screen = np.empty((y_max, x_max), dtype=object)\n",
    "        \n",
    "        for i, tile_id in enumerate(tile_ids):\n",
    "            if y[i] == 0 and x[i] == -1:\n",
    "                self.score = tile_id\n",
    "            else:\n",
    "                self.screen[y[i], x[i]] = self.tile_dict['{0}'.format(tile_id)]\n",
    "        \n",
    "        self.wall = np.argwhere(self.screen == 'w')\n",
    "        self.blocks = np.argwhere(self.screen == 'b')\n",
    "        self.paddle = np.argwhere(self.screen == '-')\n",
    "        self.ball = np.argwhere(self.screen == 'o')\n",
    "        \n",
    "    def count_tiles(self):\n",
    "        self.empty_tiles = len(np.argwhere(self.screen == ' '))\n",
    "        self.wall_tiles = len(np.argwhere(self.screen == 'w'))\n",
    "        self.block_tiles = len(np.argwhere(self.screen == 'b'))\n",
    "        self.paddle_tiles = len(np.argwhere(self.screen == '-'))\n",
    "        self.ball_tiles = len(np.argwhere(self.screen == 'o'))      \n",
    "        \n",
    "    def render_image(self):\n",
    "        %matplotlib qt\n",
    "\n",
    "        plt.plot(self.wall[:, 1], abs(self.wall[:, 0]), 's')\n",
    "        plt.plot(self.blocks[:, 1], abs(self.blocks[:, 0]), '*')\n",
    "        plt.plot(self.paddle[:, 1], abs(self.paddle[:, 0]), '_')\n",
    "        plt.plot(self.ball[:, 1], abs(self.ball[:, 0]), 'o')\n",
    "        plt.title('Score: {0}'.format(self.score))\n",
    "        plt.gca().invert_yaxis()\n",
    "        plt.axis('off')\n",
    "        plt.pause(.5)\n",
    "        plt.show()\n",
    "        \n",
    "    def ai_control(self):\n",
    "        if self.paddle[0, 1] < self.ball[0, 1]:\n",
    "            self.control = self.joystick['right']\n",
    "        if self.paddle[0, 1] > self.ball[0, 1]:\n",
    "            self.control = self.joystick['left']\n",
    "        if self.paddle[0, 1] == self.ball[0, 1]:\n",
    "            self.control = self.joystick['neutral']   "
   ]
  },
  {
   "cell_type": "code",
   "execution_count": 29,
   "metadata": {},
   "outputs": [
    {
     "name": "stdout",
     "output_type": "stream",
     "text": [
      "There are 226 block tiles on the screen.\n"
     ]
    }
   ],
   "source": [
    "computer = intcode_computer(deepcopy(software))\n",
    "game = arcade()\n",
    "while computer.done == False:\n",
    "    output = computer.step(game.control)\n",
    "    game.build_screen(output)\n",
    "    \n",
    "game.count_tiles()\n",
    "\n",
    "print('There are {0} block tiles on the screen.'.format(game.block_tiles))"
   ]
  },
  {
   "cell_type": "markdown",
   "metadata": {},
   "source": [
    "# Puzzle 2: Play"
   ]
  },
  {
   "cell_type": "markdown",
   "metadata": {},
   "source": [
    "### Joystick: {-1, 0, 1}; x=-1 and y=0 --> score"
   ]
  },
  {
   "cell_type": "code",
   "execution_count": 31,
   "metadata": {
    "scrolled": true
   },
   "outputs": [
    {
     "name": "stdout",
     "output_type": "stream",
     "text": [
      "The resulting score is 10800.\n"
     ]
    }
   ],
   "source": [
    "computer = intcode_computer(deepcopy(software))\n",
    "computer.data[0] = 2\n",
    "game = arcade()\n",
    "while computer.done == False:\n",
    "    output = computer.step(game.control)\n",
    "    game.build_screen(output)\n",
    "    game.render_image()\n",
    "    game.ai_control()\n",
    "    \n",
    "game.count_tiles()\n",
    "\n",
    "print('The resulting score is {0}.'.format(game.score))"
   ]
  },
  {
   "cell_type": "code",
   "execution_count": null,
   "metadata": {},
   "outputs": [],
   "source": []
  }
 ],
 "metadata": {
  "kernelspec": {
   "display_name": "Python 3",
   "language": "python",
   "name": "python3"
  },
  "language_info": {
   "codemirror_mode": {
    "name": "ipython",
    "version": 3
   },
   "file_extension": ".py",
   "mimetype": "text/x-python",
   "name": "python",
   "nbconvert_exporter": "python",
   "pygments_lexer": "ipython3",
   "version": "3.6.4"
  }
 },
 "nbformat": 4,
 "nbformat_minor": 2
}
