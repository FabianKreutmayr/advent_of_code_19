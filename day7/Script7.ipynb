{
 "cells": [
  {
   "cell_type": "markdown",
   "metadata": {},
   "source": [
    "# Puzzle 1: Calculate the highest possible amp signal"
   ]
  },
  {
   "cell_type": "markdown",
   "metadata": {},
   "source": [
    "### Unique phase setting between 0 and 4 for any amp --> what is the highest signal?"
   ]
  },
  {
   "cell_type": "code",
   "execution_count": 1,
   "metadata": {},
   "outputs": [],
   "source": [
    "import numpy as np\n",
    "from copy import deepcopy"
   ]
  },
  {
   "cell_type": "markdown",
   "metadata": {},
   "source": [
    "## Load input"
   ]
  },
  {
   "cell_type": "code",
   "execution_count": 2,
   "metadata": {},
   "outputs": [],
   "source": [
    "with open('./input7.txt', 'r') as file:\n",
    "\n",
    "    software = file.readlines()"
   ]
  },
  {
   "cell_type": "markdown",
   "metadata": {},
   "source": [
    "#### Convert data to list of integers"
   ]
  },
  {
   "cell_type": "code",
   "execution_count": 3,
   "metadata": {},
   "outputs": [],
   "source": [
    "software = list(map(int, software[0].split(',')))"
   ]
  },
  {
   "cell_type": "markdown",
   "metadata": {},
   "source": [
    "## Calculation"
   ]
  },
  {
   "cell_type": "code",
   "execution_count": 4,
   "metadata": {},
   "outputs": [],
   "source": [
    "def intcode_computer(inputs, data):\n",
    "    i = 0\n",
    "    run = True\n",
    "\n",
    "    while run is True:\n",
    "        if len(str(data[i])) < 5:\n",
    "            add = (5-len(str(data[i])))*'0'\n",
    "            data[i] = '{0}{1}'.format(add, str(data[i]))\n",
    "\n",
    "        optcode = data[i][-2:]\n",
    "        mode1 = data[i][-3]\n",
    "        mode2 = data[i][-4]\n",
    "        mode3 = data[i][-5]\n",
    "\n",
    "        if mode1 == '0' and optcode != '99':\n",
    "            param1 = int(data[data[i+1]])\n",
    "        else:\n",
    "            param1 = int(data[i+1])\n",
    "\n",
    "        if optcode == '01':\n",
    "            if mode2 == '0':\n",
    "                param2 = int(data[data[i+2]])\n",
    "            else:\n",
    "                param2 = int(data[i+2])\n",
    "            data[data[i+3]] = param1 + param2\n",
    "            i += 4\n",
    "\n",
    "        if optcode == '02':\n",
    "            if mode2 == '0':\n",
    "                param2 = int(data[data[i+2]])\n",
    "            else:\n",
    "                param2 = int(data[i+2])\n",
    "            data[data[i+3]] = param1 * param2\n",
    "            i += 4\n",
    "\n",
    "        if optcode == '03':\n",
    "            data[data[i+1]] = inputs[0]\n",
    "            del inputs[0]\n",
    "            i += 2\n",
    "\n",
    "        if optcode == '04':\n",
    "            if mode1 == '0':\n",
    "                out = data[data[i+1]]\n",
    "                # print(data[data[i+1]])\n",
    "            else:\n",
    "                out = data[data[i+1]]\n",
    "                # print(data[i+1])\n",
    "            i += 2\n",
    "\n",
    "        if optcode == '05':\n",
    "            if mode2 == '0':\n",
    "                param2 = int(data[data[i+2]])\n",
    "            else:\n",
    "                param2 = int(data[i+2])\n",
    "\n",
    "            if param1 != 0:\n",
    "                i = param2\n",
    "            else:\n",
    "                i += 3\n",
    "\n",
    "        if optcode == '06':\n",
    "            if mode2 == '0':\n",
    "                param2 = int(data[data[i+2]])\n",
    "            else:\n",
    "                param2 = int(data[i+2])\n",
    "\n",
    "            if param1 == 0:\n",
    "                i = param2\n",
    "            else:\n",
    "                i += 3\n",
    "\n",
    "        if optcode == '07':\n",
    "            if mode2 == '0':\n",
    "                param2 = int(data[data[i+2]])\n",
    "            else:\n",
    "                param2 = int(data[i+2])\n",
    "\n",
    "            if param1 < param2:\n",
    "                data[data[i+3]] = 1\n",
    "            else:\n",
    "                data[data[i+3]] = 0\n",
    "            i += 4\n",
    "\n",
    "        if optcode == '08':\n",
    "            if mode2 == '0':\n",
    "                param2 = int(data[data[i+2]])\n",
    "            else:\n",
    "                param2 = int(data[i+2])\n",
    "\n",
    "            if param1 == param2:\n",
    "                data[data[i+3]] = 1\n",
    "            else:\n",
    "                data[data[i+3]] = 0\n",
    "            i += 4\n",
    "\n",
    "        if optcode == '99':\n",
    "            run = False\n",
    "    return out"
   ]
  },
  {
   "cell_type": "code",
   "execution_count": 5,
   "metadata": {
    "scrolled": true
   },
   "outputs": [],
   "source": [
    "best_output = 0\n",
    "\n",
    "for pA in range(0, 5):\n",
    "    outA = intcode_computer([pA, 0], deepcopy(software))\n",
    "    for pB in range(0, 5):\n",
    "        if pA == pB:\n",
    "            outB = False\n",
    "        else:\n",
    "            outB = intcode_computer([pB, outA], deepcopy(software))\n",
    "        for pC in range(0, 5):\n",
    "            if pC in [pA, pB] or outB == False:\n",
    "                outC = False\n",
    "            else:\n",
    "                outC = intcode_computer([pC, outB], deepcopy(software))\n",
    "            for pD in range(0, 5):\n",
    "                if pD in [pA, pB, pC] or outC == False or outB == False:\n",
    "                    outD = False\n",
    "                else:\n",
    "                    outD = intcode_computer([pD, outC], deepcopy(software))\n",
    "                for pE in range(0, 5):\n",
    "                    if pE in [pA, pB, pC, pD] or outD == False or outC == False or outB == False:\n",
    "                        outE = 0\n",
    "                    else:\n",
    "                        outE = intcode_computer([pE, outD], deepcopy(software))\n",
    "                    \n",
    "                    if outE > best_output:\n",
    "                        best_output = outE\n",
    "                        best_combination = [pA, pB, pC, pD, pE]"
   ]
  },
  {
   "cell_type": "code",
   "execution_count": 6,
   "metadata": {},
   "outputs": [
    {
     "name": "stdout",
     "output_type": "stream",
     "text": [
      "The highest signal is 77500.\n"
     ]
    }
   ],
   "source": [
    "print('The highest signal is {0}.'.format(best_output))"
   ]
  },
  {
   "cell_type": "markdown",
   "metadata": {},
   "source": [
    "# Puzzle 2:  Calculate the highest possible amp signal using a feedback loop"
   ]
  },
  {
   "cell_type": "markdown",
   "metadata": {},
   "source": [
    "### phase settings from 5 to 9"
   ]
  },
  {
   "cell_type": "code",
   "execution_count": 11,
   "metadata": {},
   "outputs": [],
   "source": [
    "class intcode_computer(object):\n",
    "    \n",
    "    def __init__(self, phase, data):\n",
    "        \n",
    "        self.phase = phase\n",
    "        self.data = data\n",
    "        self.inputs = [phase]\n",
    "        self.i = 0\n",
    "\n",
    "    def step(self, amp_in):\n",
    "        self.inputs.append(amp_in)\n",
    "        self.run = True\n",
    "        self.done = False\n",
    "        self.out = 0\n",
    "\n",
    "        while self.run is True:\n",
    "            if len(str(self.data[self.i])) < 5:\n",
    "                add = (5-len(str(self.data[self.i])))*'0'\n",
    "                self.data[self.i] = '{0}{1}'.format(add, str(self.data[self.i]))\n",
    "\n",
    "            optcode = self.data[self.i][-2:]\n",
    "            mode1 = self.data[self.i][-3]\n",
    "            mode2 = self.data[self.i][-4]\n",
    "            mode3 = self.data[self.i][-5]\n",
    "\n",
    "            if mode1 == '0' and optcode != '99':\n",
    "                param1 = int(self.data[self.data[self.i+1]])\n",
    "            else:\n",
    "                if optcode != '99':\n",
    "                    param1 = int(self.data[self.i+1])\n",
    "\n",
    "            if optcode == '01':\n",
    "                if mode2 == '0':\n",
    "                    param2 = int(self.data[self.data[self.i+2]])\n",
    "                else:\n",
    "                    param2 = int(self.data[self.i+2])\n",
    "                self.data[self.data[self.i+3]] = param1 + param2\n",
    "                self.i += 4\n",
    "\n",
    "            if optcode == '02':\n",
    "                if mode2 == '0':\n",
    "                    param2 = int(self.data[self.data[self.i+2]])\n",
    "                else:\n",
    "                    param2 = int(self.data[self.i+2])\n",
    "                self.data[self.data[self.i+3]] = param1 * param2\n",
    "                self.i += 4\n",
    "\n",
    "            if optcode == '03':\n",
    "                if len(self.inputs) > 0:\n",
    "                    self.data[self.data[self.i+1]] = self.inputs[0]\n",
    "                    del self.inputs[0]\n",
    "                    self.i += 2\n",
    "                else:\n",
    "                    self.run = False\n",
    "                    # print('Amp waits for input')\n",
    "                    break\n",
    "                    \n",
    "            if optcode == '04':\n",
    "                if mode1 == '0':\n",
    "                    self.out = self.data[self.data[self.i+1]]\n",
    "                else:\n",
    "                    self.out = self.data[self.data[self.i+1]]\n",
    "                self.i += 2\n",
    "\n",
    "            if optcode == '05':\n",
    "                if mode2 == '0':\n",
    "                    param2 = int(self.data[self.data[self.i+2]])\n",
    "                else:\n",
    "                    param2 = int(self.data[self.i+2])\n",
    "\n",
    "                if param1 != 0:\n",
    "                    self.i = param2\n",
    "                else:\n",
    "                    self.i += 3\n",
    "\n",
    "            if optcode == '06':\n",
    "                if mode2 == '0':\n",
    "                    param2 = int(self.data[self.data[self.i+2]])\n",
    "                else:\n",
    "                    param2 = int(self.data[self.i+2])\n",
    "\n",
    "                if param1 == 0:\n",
    "                    self.i = param2\n",
    "                else:\n",
    "                    self.i += 3\n",
    "\n",
    "            if optcode == '07':\n",
    "                if mode2 == '0':\n",
    "                    param2 = int(self.data[self.data[self.i+2]])\n",
    "                else:\n",
    "                    param2 = int(self.data[self.i+2])\n",
    "\n",
    "                if param1 < param2:\n",
    "                    self.data[self.data[self.i+3]] = 1\n",
    "                else:\n",
    "                    self.data[self.data[self.i+3]] = 0\n",
    "                self.i += 4\n",
    "\n",
    "            if optcode == '08':\n",
    "                if mode2 == '0':\n",
    "                    param2 = int(self.data[self.data[self.i+2]])\n",
    "                else:\n",
    "                    param2 = int(self.data[self.i+2])\n",
    "\n",
    "                if param1 == param2:\n",
    "                    self.data[self.data[self.i+3]] = 1\n",
    "                else:\n",
    "                    self.data[self.data[self.i+3]] = 0\n",
    "                self.i += 4\n",
    "\n",
    "            if optcode == '99':\n",
    "                self.run = False\n",
    "                self.i += 1\n",
    "                self.done = True\n",
    "        return self.out, self.done"
   ]
  },
  {
   "cell_type": "markdown",
   "metadata": {},
   "source": [
    "#### generate all possible phase settings"
   ]
  },
  {
   "cell_type": "code",
   "execution_count": 12,
   "metadata": {},
   "outputs": [],
   "source": [
    "from itertools import permutations "
   ]
  },
  {
   "cell_type": "code",
   "execution_count": 13,
   "metadata": {},
   "outputs": [],
   "source": [
    "phase_settings = list(permutations(range(5, 10))) "
   ]
  },
  {
   "cell_type": "code",
   "execution_count": 15,
   "metadata": {
    "scrolled": true
   },
   "outputs": [
    {
     "name": "stdout",
     "output_type": "stream",
     "text": [
      "The value of the highest possible amp signal is 22476942.\n"
     ]
    }
   ],
   "source": [
    "best_output = 0\n",
    "\n",
    "for phase in phase_settings:\n",
    "    done = [False]*5\n",
    "    outE = 0\n",
    "    \n",
    "    ampA = intcode_computer(phase[0], deepcopy(software))\n",
    "    ampB = intcode_computer(phase[1], deepcopy(software))\n",
    "    ampC = intcode_computer(phase[2], deepcopy(software))\n",
    "    ampD = intcode_computer(phase[3], deepcopy(software))\n",
    "    ampE = intcode_computer(phase[4], deepcopy(software))\n",
    "    \n",
    "    while True not in done:\n",
    "        outA, done[0] = ampA.step(outE)\n",
    "        outB, done[1] = ampB.step(outA)\n",
    "        outC, done[2] = ampC.step(outB)\n",
    "        outD, done[3] = ampD.step(outC)\n",
    "        outE, done[4] = ampE.step(outD)\n",
    "        if True in done and outE > best_output:\n",
    "            best_output = outE\n",
    "\n",
    "print('The value of the highest possible amp signal is {0}.'.format(best_output))"
   ]
  },
  {
   "cell_type": "code",
   "execution_count": null,
   "metadata": {},
   "outputs": [],
   "source": []
  }
 ],
 "metadata": {
  "kernelspec": {
   "display_name": "Python 3",
   "language": "python",
   "name": "python3"
  },
  "language_info": {
   "codemirror_mode": {
    "name": "ipython",
    "version": 3
   },
   "file_extension": ".py",
   "mimetype": "text/x-python",
   "name": "python",
   "nbconvert_exporter": "python",
   "pygments_lexer": "ipython3",
   "version": "3.6.4"
  }
 },
 "nbformat": 4,
 "nbformat_minor": 2
}
