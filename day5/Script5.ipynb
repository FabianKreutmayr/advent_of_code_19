{
 "cells": [
  {
   "cell_type": "markdown",
   "metadata": {},
   "source": [
    "# Puzzle 1: Calculate diagnostic code"
   ]
  },
  {
   "cell_type": "markdown",
   "metadata": {},
   "source": [
    "### 1 --> add; 2 --> multiply; 3 --> save an input; 4 --> output from position x; 99 --> halt; modes: 0 --> position mode; 1 --> immediate mode;"
   ]
  },
  {
   "cell_type": "code",
   "execution_count": 1,
   "metadata": {},
   "outputs": [],
   "source": [
    "import numpy as np"
   ]
  },
  {
   "cell_type": "markdown",
   "metadata": {},
   "source": [
    "## Load input"
   ]
  },
  {
   "cell_type": "code",
   "execution_count": 2,
   "metadata": {},
   "outputs": [],
   "source": [
    "with open('./input5.txt', 'r') as file:\n",
    "\n",
    "    data = file.readlines()"
   ]
  },
  {
   "cell_type": "markdown",
   "metadata": {},
   "source": [
    "#### Convert data to list of integers and change the value of pos 1 and pos 2"
   ]
  },
  {
   "cell_type": "code",
   "execution_count": 3,
   "metadata": {},
   "outputs": [],
   "source": [
    "data = list(map(int, data[0].split(',')))"
   ]
  },
  {
   "cell_type": "markdown",
   "metadata": {},
   "source": [
    "## Calculation"
   ]
  },
  {
   "cell_type": "code",
   "execution_count": 4,
   "metadata": {},
   "outputs": [
    {
     "name": "stdout",
     "output_type": "stream",
     "text": [
      "Enter a number: 1\n",
      "0\n",
      "0\n",
      "0\n",
      "0\n",
      "0\n",
      "0\n",
      "0\n",
      "0\n",
      "0\n",
      "7839346\n"
     ]
    }
   ],
   "source": [
    "i = 0\n",
    "run = True\n",
    "\n",
    "while run is True:\n",
    "    if len(str(data[i])) < 5:\n",
    "        add = (5-len(str(data[i])))*'0'\n",
    "        data[i] = '{0}{1}'.format(add, str(data[i]))\n",
    "\n",
    "    optcode = data[i][-2:]\n",
    "    mode1 = data[i][-3]\n",
    "    mode2 = data[i][-4]\n",
    "    mode3 = data[i][-5]\n",
    "    \n",
    "    if mode1 == '0' and optcode != '99':\n",
    "        param1 = int(data[data[i+1]])\n",
    "    else:\n",
    "        param1 = int(data[i+1])\n",
    "        \n",
    "    if optcode == '01':\n",
    "        if mode2 == '0':\n",
    "            param2 = int(data[data[i+2]])\n",
    "        else:\n",
    "            param2 = int(data[i+2])\n",
    "        data[data[i+3]] = param1 + param2\n",
    "        i += 4\n",
    "\n",
    "    if optcode == '02':\n",
    "        if mode2 == '0':\n",
    "            param2 = int(data[data[i+2]])\n",
    "        else:\n",
    "            param2 = int(data[i+2])\n",
    "        data[data[i+3]] = param1 * param2\n",
    "        i += 4\n",
    "\n",
    "    if optcode == '03':\n",
    "        data[data[i+1]] = int(input('Enter a number: '))\n",
    "        i += 2\n",
    "\n",
    "    if optcode == '04':\n",
    "        if mode1 == '0':\n",
    "            print(data[data[i+1]])\n",
    "        else:\n",
    "            print(data[i+1])\n",
    "        i += 2\n",
    "\n",
    "    if optcode == '99':\n",
    "        run = False\n"
   ]
  },
  {
   "cell_type": "markdown",
   "metadata": {},
   "source": [
    "# Puzzle 2: Calculate diagnostic code"
   ]
  },
  {
   "cell_type": "markdown",
   "metadata": {},
   "source": [
    "### 5 --> jump if true (nonzero); 6 --> jump if false (zero); 7 --> less than; 8 --> equals"
   ]
  },
  {
   "cell_type": "markdown",
   "metadata": {},
   "source": [
    "## Load input"
   ]
  },
  {
   "cell_type": "code",
   "execution_count": 5,
   "metadata": {},
   "outputs": [],
   "source": [
    "with open('./input5.txt', 'r') as file:\n",
    "\n",
    "    data = file.readlines()"
   ]
  },
  {
   "cell_type": "code",
   "execution_count": 6,
   "metadata": {},
   "outputs": [],
   "source": [
    "data = list(map(int, data[0].split(',')))"
   ]
  },
  {
   "cell_type": "code",
   "execution_count": 7,
   "metadata": {},
   "outputs": [
    {
     "name": "stdout",
     "output_type": "stream",
     "text": [
      "Enter a number: 5\n",
      "447803\n"
     ]
    }
   ],
   "source": [
    "i = 0\n",
    "run = True\n",
    "\n",
    "while run is True:\n",
    "    if len(str(data[i])) < 5:\n",
    "        add = (5-len(str(data[i])))*'0'\n",
    "        data[i] = '{0}{1}'.format(add, str(data[i]))\n",
    "\n",
    "    optcode = data[i][-2:]\n",
    "    mode1 = data[i][-3]\n",
    "    mode2 = data[i][-4]\n",
    "    mode3 = data[i][-5]\n",
    "    \n",
    "    if mode1 == '0' and optcode != '99':\n",
    "        param1 = int(data[data[i+1]])\n",
    "    else:\n",
    "        param1 = int(data[i+1])\n",
    "        \n",
    "    if optcode == '01':\n",
    "        if mode2 == '0':\n",
    "            param2 = int(data[data[i+2]])\n",
    "        else:\n",
    "            param2 = int(data[i+2])\n",
    "        data[data[i+3]] = param1 + param2\n",
    "        i += 4\n",
    "\n",
    "    if optcode == '02':\n",
    "        if mode2 == '0':\n",
    "            param2 = int(data[data[i+2]])\n",
    "        else:\n",
    "            param2 = int(data[i+2])\n",
    "        data[data[i+3]] = param1 * param2\n",
    "        i += 4\n",
    "\n",
    "    if optcode == '03':\n",
    "        data[data[i+1]] = int(input('Enter a number: '))\n",
    "        i += 2\n",
    "\n",
    "    if optcode == '04':\n",
    "        if mode1 == '0':\n",
    "            print(data[data[i+1]])\n",
    "        else:\n",
    "            print(data[i+1])\n",
    "        i += 2\n",
    "        \n",
    "    if optcode == '05':\n",
    "        if mode2 == '0':\n",
    "            param2 = int(data[data[i+2]])\n",
    "        else:\n",
    "            param2 = int(data[i+2])\n",
    "            \n",
    "        if param1 != 0:\n",
    "            i = param2\n",
    "        else:\n",
    "            i += 3\n",
    "            \n",
    "    if optcode == '06':\n",
    "        if mode2 == '0':\n",
    "            param2 = int(data[data[i+2]])\n",
    "        else:\n",
    "            param2 = int(data[i+2])\n",
    "            \n",
    "        if param1 == 0:\n",
    "            i = param2\n",
    "        else:\n",
    "            i += 3\n",
    "            \n",
    "    if optcode == '07':\n",
    "        if mode2 == '0':\n",
    "            param2 = int(data[data[i+2]])\n",
    "        else:\n",
    "            param2 = int(data[i+2])\n",
    "            \n",
    "        if param1 < param2:\n",
    "            data[data[i+3]] = 1\n",
    "        else:\n",
    "            data[data[i+3]] = 0\n",
    "        i += 4\n",
    "\n",
    "    if optcode == '08':\n",
    "        if mode2 == '0':\n",
    "            param2 = int(data[data[i+2]])\n",
    "        else:\n",
    "            param2 = int(data[i+2])\n",
    "            \n",
    "        if param1 == param2:\n",
    "            data[data[i+3]] = 1\n",
    "        else:\n",
    "            data[data[i+3]] = 0\n",
    "        i += 4\n",
    "            \n",
    "    if optcode == '99':\n",
    "        run = False\n"
   ]
  },
  {
   "cell_type": "code",
   "execution_count": null,
   "metadata": {},
   "outputs": [],
   "source": []
  }
 ],
 "metadata": {
  "kernelspec": {
   "display_name": "Python 3",
   "language": "python",
   "name": "python3"
  },
  "language_info": {
   "codemirror_mode": {
    "name": "ipython",
    "version": 3
   },
   "file_extension": ".py",
   "mimetype": "text/x-python",
   "name": "python",
   "nbconvert_exporter": "python",
   "pygments_lexer": "ipython3",
   "version": "3.6.4"
  }
 },
 "nbformat": 4,
 "nbformat_minor": 2
}
