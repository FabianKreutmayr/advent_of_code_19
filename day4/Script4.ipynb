{
 "cells": [
  {
   "cell_type": "markdown",
   "metadata": {},
   "source": [
    "# Puzzle 1: Calculate number of possible passwords"
   ]
  },
  {
   "cell_type": "markdown",
   "metadata": {},
   "source": [
    "### six digit number; value within a given range; two adjacent digits are the same; digits never decrease from left to right"
   ]
  },
  {
   "cell_type": "code",
   "execution_count": 2,
   "metadata": {},
   "outputs": [],
   "source": [
    "import numpy as np"
   ]
  },
  {
   "cell_type": "markdown",
   "metadata": {},
   "source": [
    "## Load input"
   ]
  },
  {
   "cell_type": "code",
   "execution_count": 3,
   "metadata": {},
   "outputs": [],
   "source": [
    "lower = 178416\n",
    "upper = 676461"
   ]
  },
  {
   "cell_type": "code",
   "execution_count": 5,
   "metadata": {},
   "outputs": [],
   "source": [
    "counter = 0\n",
    "passwords = []\n",
    "for i in range(lower, upper+1):\n",
    "    adjacent_flag = 0\n",
    "    decrease_flag = 0\n",
    "    temp = str(i)\n",
    "    for j in range(1, len(temp)):\n",
    "        if temp[j] < temp[j-1]:\n",
    "            decrease_flag = 1\n",
    "            break\n",
    "        if temp[j] == temp[j-1]:\n",
    "            adjacent_flag = 1\n",
    "    if adjacent_flag == 1 and decrease_flag == 0:\n",
    "        counter += 1\n",
    "        passwords.append(temp)"
   ]
  },
  {
   "cell_type": "code",
   "execution_count": 6,
   "metadata": {},
   "outputs": [
    {
     "name": "stdout",
     "output_type": "stream",
     "text": [
      "The number of possible passwords is 1650.\n"
     ]
    }
   ],
   "source": [
    "print('The number of possible passwords is {0}.'.format(counter))"
   ]
  },
  {
   "cell_type": "markdown",
   "metadata": {},
   "source": [
    "# Puzzle 2: Calculate number of possible passwords with one more criterion"
   ]
  },
  {
   "cell_type": "markdown",
   "metadata": {},
   "source": [
    "### no larger group of matching digits allowed if there is no another double group"
   ]
  },
  {
   "cell_type": "code",
   "execution_count": 24,
   "metadata": {},
   "outputs": [],
   "source": [
    "import collections"
   ]
  },
  {
   "cell_type": "code",
   "execution_count": 18,
   "metadata": {},
   "outputs": [],
   "source": [
    "counter = 0\n",
    "for word in passwords:\n",
    "    counted_digits = collections.Counter(word)\n",
    "    if 2 in counted_digits.values():\n",
    "        counter += 1"
   ]
  },
  {
   "cell_type": "code",
   "execution_count": 20,
   "metadata": {},
   "outputs": [
    {
     "name": "stdout",
     "output_type": "stream",
     "text": [
      "The number of possible passwords is 1129.\n"
     ]
    }
   ],
   "source": [
    "print('The number of possible passwords is {0}.'.format(counter))"
   ]
  },
  {
   "cell_type": "code",
   "execution_count": 10,
   "metadata": {},
   "outputs": [],
   "source": [
    "counted_digits = collections.Counter(passwords[0])"
   ]
  },
  {
   "cell_type": "code",
   "execution_count": 12,
   "metadata": {},
   "outputs": [
    {
     "name": "stdout",
     "output_type": "stream",
     "text": [
      "1\n",
      "1\n",
      "4\n"
     ]
    }
   ],
   "source": [
    "for i in counted_digits.values():\n",
    "    print(i)"
   ]
  },
  {
   "cell_type": "code",
   "execution_count": 14,
   "metadata": {},
   "outputs": [
    {
     "ename": "SyntaxError",
     "evalue": "invalid syntax (<ipython-input-14-160256b194b4>, line 1)",
     "output_type": "error",
     "traceback": [
      "\u001b[1;36m  File \u001b[1;32m\"<ipython-input-14-160256b194b4>\"\u001b[1;36m, line \u001b[1;32m1\u001b[0m\n\u001b[1;33m    x > 2 for x in counted_digits.values()\u001b[0m\n\u001b[1;37m            ^\u001b[0m\n\u001b[1;31mSyntaxError\u001b[0m\u001b[1;31m:\u001b[0m invalid syntax\n"
     ]
    }
   ],
   "source": [
    "x > 2 for x in counted_digits.values()"
   ]
  },
  {
   "cell_type": "markdown",
   "metadata": {},
   "source": [
    "#### Create the real grid"
   ]
  },
  {
   "cell_type": "code",
   "execution_count": 10,
   "metadata": {},
   "outputs": [],
   "source": [
    "grid = np.zeros((24000, 24000))"
   ]
  },
  {
   "cell_type": "markdown",
   "metadata": {},
   "source": [
    "#### Draw wire 1"
   ]
  },
  {
   "cell_type": "code",
   "execution_count": 11,
   "metadata": {},
   "outputs": [],
   "source": [
    "x = 12000\n",
    "y = 12000\n",
    "\n",
    "grid[y][x] = 1  # initialization of starting point\n",
    "\n",
    "for i in wire1:\n",
    "    if i[0] is 'R':  # steps to the right\n",
    "        step = int(i[1:])\n",
    "        grid[y][x+1:x+step+1] += 1\n",
    "        x += step\n",
    "    if i[0] is 'L':  # steps to the left\n",
    "        step = int(i[1:])\n",
    "        grid[y][x-step:x] += 1\n",
    "        x -= step\n",
    "    if i[0] is 'U':  # steps up\n",
    "        step = int(i[1:])\n",
    "        grid.T[x][y-step:y] += 1\n",
    "        y -= step\n",
    "    if i[0] is 'D':  # steps down\n",
    "        step = int(i[1:])\n",
    "        grid.T[x][y+1:y+step+1] += 1\n",
    "        y += step"
   ]
  },
  {
   "cell_type": "markdown",
   "metadata": {},
   "source": [
    "#### Draw wire 2"
   ]
  },
  {
   "cell_type": "code",
   "execution_count": 12,
   "metadata": {},
   "outputs": [],
   "source": [
    "x = 12000\n",
    "y = 12000\n",
    "\n",
    "for i in wire2:\n",
    "    if i[0] is 'R':  # steps to the right\n",
    "        step = int(i[1:])\n",
    "        grid[y][x+1:x+step+1] += 1\n",
    "        x += step\n",
    "    if i[0] is 'L':  # steps to the left\n",
    "        step = int(i[1:])\n",
    "        grid[y][x-step:x] += 1\n",
    "        x -= step\n",
    "    if i[0] is 'U':  # steps up\n",
    "        step = int(i[1:])\n",
    "        grid.T[x][y-step:y] += 1\n",
    "        y -= step\n",
    "    if i[0] is 'D':  # steps down\n",
    "        step = int(i[1:])\n",
    "        grid.T[x][y+1:y+step+1] += 1\n",
    "        y += step"
   ]
  },
  {
   "cell_type": "markdown",
   "metadata": {},
   "source": [
    "#### find intersections (visitscount > 1)"
   ]
  },
  {
   "cell_type": "code",
   "execution_count": 13,
   "metadata": {},
   "outputs": [],
   "source": [
    "positions = np.argwhere(grid > 1) "
   ]
  },
  {
   "cell_type": "markdown",
   "metadata": {},
   "source": [
    "#### find the closest intersection to starting point 12000, 12000"
   ]
  },
  {
   "cell_type": "code",
   "execution_count": 14,
   "metadata": {},
   "outputs": [],
   "source": [
    "closest = np.min(np.sum(abs(positions - 12000), axis=1))"
   ]
  },
  {
   "cell_type": "code",
   "execution_count": 15,
   "metadata": {},
   "outputs": [
    {
     "name": "stdout",
     "output_type": "stream",
     "text": [
      "The Manhattan distance to the closest intersection is 225.\n"
     ]
    }
   ],
   "source": [
    "print('The Manhattan distance to the closest intersection is {0}.'.format(closest))"
   ]
  },
  {
   "cell_type": "markdown",
   "metadata": {},
   "source": [
    "# Puzzle 2: Search intersection with fewest combined steps"
   ]
  },
  {
   "cell_type": "markdown",
   "metadata": {},
   "source": [
    "#### Walk along wire 1 and find the distance to any intersection"
   ]
  },
  {
   "cell_type": "code",
   "execution_count": 16,
   "metadata": {},
   "outputs": [],
   "source": [
    "interdict1 = dict()\n",
    "for i in positions:\n",
    "    interdict1['{0}, {1}'.format(i[0], i[1])] = 0  # dict for any intersection of wire 1"
   ]
  },
  {
   "cell_type": "code",
   "execution_count": 17,
   "metadata": {
    "scrolled": true
   },
   "outputs": [],
   "source": [
    "x = 12000\n",
    "y = 12000\n",
    "\n",
    "stepcount = 0  # initialize stepcounter\n",
    "\n",
    "for i in wire1:\n",
    "    if i[0] is 'R':  # steps to the right\n",
    "        step = int(i[1:])        \n",
    "        for j in np.where(grid[y][x+1:x+step+1] > 1)[0]:\n",
    "            if interdict1['{0}, {1}'.format(y, x+j+1)] == 0:\n",
    "                interdict1['{0}, {1}'.format(y, x+j+1)] += (stepcount + j + 1)\n",
    "        x += step\n",
    "        stepcount += step\n",
    "    if i[0] is 'L':  # steps to the left\n",
    "        step = int(i[1:])\n",
    "        for j in np.where(grid[y][x-step:x+1] > 1)[0]:\n",
    "            if interdict1['{0}, {1}'.format(y, x-(step-j))] == 0:\n",
    "                interdict1['{0}, {1}'.format(y, x-(step-j))] += (stepcount + (step-j))\n",
    "        x -= step\n",
    "        stepcount += step\n",
    "    if i[0] is 'U':  # steps up\n",
    "        step = int(i[1:])\n",
    "        for j in np.where(grid.T[x][y-step:y+1] > 1)[0]:\n",
    "            if interdict1['{0}, {1}'.format(y-(step-j), x)] == 0:\n",
    "                interdict1['{0}, {1}'.format(y-(step-j), x)] += (stepcount + (step-j))             \n",
    "        y -= step\n",
    "        stepcount += step\n",
    "    if i[0] is 'D':  # steps down\n",
    "        step = int(i[1:])\n",
    "        for j in np.where(grid.T[x][y+1:y+step+1] > 1)[0]:\n",
    "            if interdict1['{0}, {1}'.format(y+j+1, x)] == 0:\n",
    "                interdict1['{0}, {1}'.format(y+j+1, x)] += (stepcount + j+1)\n",
    "        y += step\n",
    "        stepcount += step"
   ]
  },
  {
   "cell_type": "markdown",
   "metadata": {},
   "source": [
    "#### Walk along wire 2 and find the distance to any intersection"
   ]
  },
  {
   "cell_type": "code",
   "execution_count": 18,
   "metadata": {},
   "outputs": [],
   "source": [
    "interdict2 = dict()\n",
    "for i in positions:\n",
    "    interdict2['{0}, {1}'.format(i[0], i[1])] = 0  # dict for any intersection of wire 2"
   ]
  },
  {
   "cell_type": "code",
   "execution_count": 19,
   "metadata": {
    "scrolled": true
   },
   "outputs": [],
   "source": [
    "x = 12000\n",
    "y = 12000\n",
    "\n",
    "stepcount = 0  # initialize stepcounter\n",
    "\n",
    "for i in wire2:\n",
    "    if i[0] is 'R':  # steps to the right\n",
    "        step = int(i[1:])        \n",
    "        for j in np.where(grid[y][x+1:x+step+1] > 1)[0]:\n",
    "            if interdict2['{0}, {1}'.format(y, x+j+1)] == 0:\n",
    "                interdict2['{0}, {1}'.format(y, x+j+1)] += (stepcount + j + 1)\n",
    "        x += step\n",
    "        stepcount += step\n",
    "    if i[0] is 'L':  # steps to the left\n",
    "        step = int(i[1:])\n",
    "        for j in np.where(grid[y][x-step:x+1] > 1)[0]:\n",
    "            if interdict2['{0}, {1}'.format(y, x-(step-j))] == 0:\n",
    "                interdict2['{0}, {1}'.format(y, x-(step-j))] += (stepcount + (step-j))\n",
    "        x -= step\n",
    "        stepcount += step\n",
    "    if i[0] is 'U':  # steps up\n",
    "        step = int(i[1:])\n",
    "        for j in np.where(grid.T[x][y-step:y+1] > 1)[0]:\n",
    "            if interdict2['{0}, {1}'.format(y-(step-j), x)] == 0:\n",
    "                interdict2['{0}, {1}'.format(y-(step-j), x)] += (stepcount + (step-j))             \n",
    "        y -= step\n",
    "        stepcount += step\n",
    "    if i[0] is 'D':  # steps down\n",
    "        step = int(i[1:])\n",
    "        for j in np.where(grid.T[x][y+1:y+step+1] > 1)[0]:\n",
    "            if interdict2['{0}, {1}'.format(y+j+1, x)] == 0:\n",
    "                interdict2['{0}, {1}'.format(y+j+1, x)] += (stepcount + j+1)\n",
    "        y += step\n",
    "        stepcount += step"
   ]
  },
  {
   "cell_type": "code",
   "execution_count": 20,
   "metadata": {},
   "outputs": [],
   "source": [
    "solution = 99999999999\n",
    "for i in positions:\n",
    "    if interdict1['{0}, {1}'.format(i[0], i[1])] > 0 and interdict2['{0}, {1}'.format(i[0], i[1])] > 0:\n",
    "        temp1 = interdict1['{0}, {1}'.format(i[0], i[1])] + interdict2['{0}, {1}'.format(i[0], i[1])]\n",
    "        if temp1 < solution:\n",
    "            solution = temp1"
   ]
  },
  {
   "cell_type": "code",
   "execution_count": 21,
   "metadata": {},
   "outputs": [
    {
     "name": "stdout",
     "output_type": "stream",
     "text": [
      "The solution is 35194.\n"
     ]
    }
   ],
   "source": [
    "print('The solution is {0}.'.format(solution))"
   ]
  },
  {
   "cell_type": "code",
   "execution_count": null,
   "metadata": {},
   "outputs": [],
   "source": []
  }
 ],
 "metadata": {
  "kernelspec": {
   "display_name": "Python 3",
   "language": "python",
   "name": "python3"
  },
  "language_info": {
   "codemirror_mode": {
    "name": "ipython",
    "version": 3
   },
   "file_extension": ".py",
   "mimetype": "text/x-python",
   "name": "python",
   "nbconvert_exporter": "python",
   "pygments_lexer": "ipython3",
   "version": "3.6.4"
  }
 },
 "nbformat": 4,
 "nbformat_minor": 2
}
