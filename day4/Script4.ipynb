{
 "cells": [
  {
   "cell_type": "markdown",
   "metadata": {},
   "source": [
    "# Puzzle 1: Calculate number of possible passwords"
   ]
  },
  {
   "cell_type": "markdown",
   "metadata": {},
   "source": [
    "### six digit number; value within a given range; two adjacent digits are the same; digits never decrease from left to right"
   ]
  },
  {
   "cell_type": "code",
   "execution_count": 2,
   "metadata": {},
   "outputs": [],
   "source": [
    "import numpy as np"
   ]
  },
  {
   "cell_type": "markdown",
   "metadata": {},
   "source": [
    "## Load input"
   ]
  },
  {
   "cell_type": "code",
   "execution_count": 3,
   "metadata": {},
   "outputs": [],
   "source": [
    "lower = 178416\n",
    "upper = 676461"
   ]
  },
  {
   "cell_type": "code",
   "execution_count": 5,
   "metadata": {},
   "outputs": [],
   "source": [
    "counter = 0\n",
    "passwords = []\n",
    "for i in range(lower, upper+1):\n",
    "    adjacent_flag = 0\n",
    "    decrease_flag = 0\n",
    "    temp = str(i)\n",
    "    for j in range(1, len(temp)):\n",
    "        if temp[j] < temp[j-1]:\n",
    "            decrease_flag = 1\n",
    "            break\n",
    "        if temp[j] == temp[j-1]:\n",
    "            adjacent_flag = 1\n",
    "    if adjacent_flag == 1 and decrease_flag == 0:\n",
    "        counter += 1\n",
    "        passwords.append(temp)"
   ]
  },
  {
   "cell_type": "code",
   "execution_count": 6,
   "metadata": {},
   "outputs": [
    {
     "name": "stdout",
     "output_type": "stream",
     "text": [
      "The number of possible passwords is 1650.\n"
     ]
    }
   ],
   "source": [
    "print('The number of possible passwords is {0}.'.format(counter))"
   ]
  },
  {
   "cell_type": "markdown",
   "metadata": {},
   "source": [
    "# Puzzle 2: Calculate number of possible passwords with one more criterion"
   ]
  },
  {
   "cell_type": "markdown",
   "metadata": {},
   "source": [
    "### no larger group of matching digits allowed if there is no another double group"
   ]
  },
  {
   "cell_type": "code",
   "execution_count": 24,
   "metadata": {},
   "outputs": [],
   "source": [
    "import collections"
   ]
  },
  {
   "cell_type": "code",
   "execution_count": 18,
   "metadata": {},
   "outputs": [],
   "source": [
    "counter = 0\n",
    "for word in passwords:\n",
    "    counted_digits = collections.Counter(word)\n",
    "    if 2 in counted_digits.values():\n",
    "        counter += 1"
   ]
  },
  {
   "cell_type": "code",
   "execution_count": 20,
   "metadata": {},
   "outputs": [
    {
     "name": "stdout",
     "output_type": "stream",
     "text": [
      "The number of possible passwords is 1129.\n"
     ]
    }
   ],
   "source": [
    "print('The number of possible passwords is {0}.'.format(counter))"
   ]
  },
  {
   "cell_type": "code",
   "execution_count": null,
   "metadata": {},
   "outputs": [],
   "source": []
  }
 ],
 "metadata": {
  "kernelspec": {
   "display_name": "Python 3",
   "language": "python",
   "name": "python3"
  },
  "language_info": {
   "codemirror_mode": {
    "name": "ipython",
    "version": 3
   },
   "file_extension": ".py",
   "mimetype": "text/x-python",
   "name": "python",
   "nbconvert_exporter": "python",
   "pygments_lexer": "ipython3",
   "version": "3.6.4"
  }
 },
 "nbformat": 4,
 "nbformat_minor": 2
}
