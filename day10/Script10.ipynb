{
 "cells": [
  {
   "cell_type": "markdown",
   "metadata": {},
   "source": [
    "# Puzzle 1: Where to build a monitoring station?"
   ]
  },
  {
   "cell_type": "markdown",
   "metadata": {},
   "source": [
    "### '#' <-- asteroid; '.' <-- nothing; where can we monitor the hightes number of asteroids (line of sight)?"
   ]
  },
  {
   "cell_type": "code",
   "execution_count": 1,
   "metadata": {},
   "outputs": [],
   "source": [
    "import numpy as np\n",
    "from math import atan2, hypot, pi\n",
    "from operator import itemgetter"
   ]
  },
  {
   "cell_type": "markdown",
   "metadata": {},
   "source": [
    "## Load input"
   ]
  },
  {
   "cell_type": "code",
   "execution_count": 2,
   "metadata": {},
   "outputs": [],
   "source": [
    "with open('./input10.txt', 'r') as file:\n",
    "\n",
    "    data = file.readlines()"
   ]
  },
  {
   "cell_type": "markdown",
   "metadata": {},
   "source": [
    "#### some data preprocessing"
   ]
  },
  {
   "cell_type": "code",
   "execution_count": 3,
   "metadata": {},
   "outputs": [],
   "source": [
    "data = [list(x.strip()) for x in data]"
   ]
  },
  {
   "cell_type": "markdown",
   "metadata": {},
   "source": [
    "#### get number of layers"
   ]
  },
  {
   "cell_type": "code",
   "execution_count": 4,
   "metadata": {},
   "outputs": [],
   "source": [
    "def check_for_asteroids(x_base, y_base, asteroid_map):\n",
    "    angle_list = []\n",
    "    for y, line in enumerate(asteroid_map):\n",
    "        for x, symbol in enumerate(line):\n",
    "            if symbol == '#':\n",
    "                angle = -atan2(x_base-x, y_base-y)%(2 * np.pi)\n",
    "                if angle not in angle_list:\n",
    "                    angle_list.append(angle)\n",
    "    return len(angle_list)"
   ]
  },
  {
   "cell_type": "code",
   "execution_count": 5,
   "metadata": {},
   "outputs": [
    {
     "name": "stdout",
     "output_type": "stream",
     "text": [
      "The best location for the monitoring station is ([23, 29]) with 263 observable asteroids.\n"
     ]
    }
   ],
   "source": [
    "best_location = []\n",
    "observable_asteroids = 0\n",
    "\n",
    "for y, line in enumerate(data):\n",
    "    for x, symbol in enumerate(line):\n",
    "            if symbol == '#':\n",
    "                observations = check_for_asteroids(x, y, data)\n",
    "                if observations > observable_asteroids:\n",
    "                    observable_asteroids = observations\n",
    "                    best_location = [x, y]\n",
    "                    \n",
    "print('The best location for the monitoring station is ({0}) with {1} observable asteroids.'.format(best_location, \n",
    "                                                                                                    observable_asteroids))"
   ]
  },
  {
   "cell_type": "markdown",
   "metadata": {
    "scrolled": true
   },
   "source": [
    "# Puzzle 2: Vaporizing the asteroids"
   ]
  },
  {
   "cell_type": "markdown",
   "metadata": {},
   "source": [
    "### we want to know the coordinates of the 200st vaporized asteroid; result = x*100+y; start pointing up and rotate;"
   ]
  },
  {
   "cell_type": "code",
   "execution_count": 6,
   "metadata": {},
   "outputs": [],
   "source": [
    "data[best_location[1]][best_location[0]] = 'X'  # monitoring station"
   ]
  },
  {
   "cell_type": "code",
   "execution_count": 7,
   "metadata": {},
   "outputs": [],
   "source": [
    "asteroid_list = []\n",
    "\n",
    "for y, line in enumerate(data):\n",
    "    for x, symbol in enumerate(line):\n",
    "            if symbol == '#':\n",
    "                angle = (-atan2(best_location[0]-x, best_location[1]-y))%(2 * pi)\n",
    "                distance = hypot(best_location[0]-x, best_location[1]-y)\n",
    "                asteroid_list.append([[x, y], angle, distance])\n",
    "vaporizing_list = sorted(asteroid_list, key=itemgetter(1,2))"
   ]
  },
  {
   "cell_type": "code",
   "execution_count": 8,
   "metadata": {
    "scrolled": true
   },
   "outputs": [],
   "source": [
    "for i in range(0, len(vaporizing_list)):\n",
    "    for j in range(1, len(vaporizing_list)):\n",
    "        if vaporizing_list[i][1] == vaporizing_list[j][1] and i != j:\n",
    "            vaporizing_list[j][1] += 2*pi"
   ]
  },
  {
   "cell_type": "code",
   "execution_count": 9,
   "metadata": {},
   "outputs": [
    {
     "name": "stdout",
     "output_type": "stream",
     "text": [
      "The result is 1110.\n"
     ]
    }
   ],
   "source": [
    "print('The result is {0}.'.format(sorted(vaporizing_list, key=itemgetter(1))[199][0][0]*100+sorted(vaporizing_list, \n",
    "                                                                                                  key=itemgetter(1))[199][0][1]))"
   ]
  },
  {
   "cell_type": "code",
   "execution_count": null,
   "metadata": {},
   "outputs": [],
   "source": []
  },
  {
   "cell_type": "code",
   "execution_count": null,
   "metadata": {},
   "outputs": [],
   "source": []
  }
 ],
 "metadata": {
  "kernelspec": {
   "display_name": "Python 3",
   "language": "python",
   "name": "python3"
  },
  "language_info": {
   "codemirror_mode": {
    "name": "ipython",
    "version": 3
   },
   "file_extension": ".py",
   "mimetype": "text/x-python",
   "name": "python",
   "nbconvert_exporter": "python",
   "pygments_lexer": "ipython3",
   "version": "3.6.4"
  }
 },
 "nbformat": 4,
 "nbformat_minor": 2
}
