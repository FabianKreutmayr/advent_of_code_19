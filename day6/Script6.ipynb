{
 "cells": [
  {
   "cell_type": "markdown",
   "metadata": {},
   "source": [
    "# Puzzle 1: Calculate number of orbits in map"
   ]
  },
  {
   "cell_type": "markdown",
   "metadata": {},
   "source": [
    "### direct and indirect orbits"
   ]
  },
  {
   "cell_type": "code",
   "execution_count": 136,
   "metadata": {},
   "outputs": [],
   "source": [
    "import numpy as np"
   ]
  },
  {
   "cell_type": "markdown",
   "metadata": {},
   "source": [
    "## Load input"
   ]
  },
  {
   "cell_type": "code",
   "execution_count": 137,
   "metadata": {},
   "outputs": [],
   "source": [
    "with open('./input6.txt', 'r') as file:\n",
    "\n",
    "    data = file.readlines()"
   ]
  },
  {
   "cell_type": "markdown",
   "metadata": {},
   "source": [
    "#### Some data preprocessing"
   ]
  },
  {
   "cell_type": "code",
   "execution_count": 138,
   "metadata": {},
   "outputs": [],
   "source": [
    "data = [x.strip() for x in data]"
   ]
  },
  {
   "cell_type": "code",
   "execution_count": 139,
   "metadata": {
    "scrolled": true
   },
   "outputs": [],
   "source": [
    "data = [x.split(')') for x in data]"
   ]
  },
  {
   "cell_type": "code",
   "execution_count": 140,
   "metadata": {},
   "outputs": [],
   "source": [
    "orbit_dict = dict()\n",
    "for orbit in data:\n",
    "    if orbit[0] in orbit_dict:\n",
    "        orbit_dict['{0}'.format(orbit[0])].append(orbit[1])\n",
    "    else:\n",
    "        orbit_dict['{0}'.format(orbit[0])] = []\n",
    "        orbit_dict['{0}'.format(orbit[0])].append(orbit[1])"
   ]
  },
  {
   "cell_type": "markdown",
   "metadata": {},
   "source": [
    "## Calculation"
   ]
  },
  {
   "cell_type": "code",
   "execution_count": 141,
   "metadata": {},
   "outputs": [],
   "source": [
    "orbit = 'COM'\n",
    "counter = 1\n",
    "overall = 0\n",
    "run = True\n",
    "\n",
    "while run is True:\n",
    "    orbit = 'COM'\n",
    "    counter = 1\n",
    "    while True:\n",
    "        next_orbit = orbit_dict['{0}'.format(orbit)][0]\n",
    "        if next_orbit in orbit_dict.keys():         \n",
    "            orbit = next_orbit\n",
    "            counter += 1\n",
    "        else: \n",
    "            del orbit_dict['{0}'.format(orbit)][0]\n",
    "            if len(orbit_dict['{0}'.format(orbit)]) == 0:\n",
    "                del orbit_dict['{0}'.format(orbit)]\n",
    "            overall += counter\n",
    "            break\n",
    "    if len(orbit_dict) == 0:\n",
    "        run = False"
   ]
  },
  {
   "cell_type": "code",
   "execution_count": 142,
   "metadata": {},
   "outputs": [
    {
     "name": "stdout",
     "output_type": "stream",
     "text": [
      "The overall number of orbits in the map is 122782.\n"
     ]
    }
   ],
   "source": [
    "print('The overall number of orbits in the map is {0}.'.format(overall))"
   ]
  },
  {
   "cell_type": "markdown",
   "metadata": {},
   "source": [
    "# Puzzle 2: Transfer towards Santa"
   ]
  },
  {
   "cell_type": "markdown",
   "metadata": {},
   "source": [
    "### YOU to SAN"
   ]
  },
  {
   "cell_type": "markdown",
   "metadata": {},
   "source": [
    "## Load input"
   ]
  },
  {
   "cell_type": "code",
   "execution_count": 238,
   "metadata": {},
   "outputs": [],
   "source": [
    "with open('./input6.txt', 'r') as file:\n",
    "\n",
    "    data = file.readlines()"
   ]
  },
  {
   "cell_type": "code",
   "execution_count": 239,
   "metadata": {},
   "outputs": [],
   "source": [
    "data = [x.strip() for x in data]"
   ]
  },
  {
   "cell_type": "code",
   "execution_count": 240,
   "metadata": {},
   "outputs": [],
   "source": [
    "data = [x.split(')') for x in data]"
   ]
  },
  {
   "cell_type": "code",
   "execution_count": 241,
   "metadata": {},
   "outputs": [],
   "source": [
    "orbit_dict = dict()\n",
    "for orbit in data:\n",
    "    if orbit[0] in orbit_dict:\n",
    "        orbit_dict['{0}'.format(orbit[0])].append(orbit[1])\n",
    "    else:\n",
    "        orbit_dict['{0}'.format(orbit[0])] = []\n",
    "        orbit_dict['{0}'.format(orbit[0])].append(orbit[1])"
   ]
  },
  {
   "cell_type": "markdown",
   "metadata": {},
   "source": [
    "#### Way from YOU to COM"
   ]
  },
  {
   "cell_type": "code",
   "execution_count": 242,
   "metadata": {},
   "outputs": [],
   "source": [
    "run = True\n",
    "way_you = []\n",
    "orbit = 'YOU'\n",
    "\n",
    "while run is True:\n",
    "    counter = 0\n",
    "    for key, values in orbit_dict.items():\n",
    "        if orbit in values:\n",
    "            way_you.append(orbit)\n",
    "            orbit = key\n",
    "            break\n",
    "    if orbit == 'COM':\n",
    "        run = False"
   ]
  },
  {
   "cell_type": "markdown",
   "metadata": {},
   "source": [
    "#### Way from SAN to COM"
   ]
  },
  {
   "cell_type": "code",
   "execution_count": 243,
   "metadata": {},
   "outputs": [],
   "source": [
    "run = True\n",
    "way_san = []\n",
    "orbit = 'SAN'\n",
    "\n",
    "while run is True:\n",
    "    counter = 0\n",
    "    for key, values in orbit_dict.items():\n",
    "        if orbit in values:\n",
    "            way_san.append(orbit)\n",
    "            orbit = key\n",
    "            break\n",
    "    if orbit == 'COM':\n",
    "        run = False"
   ]
  },
  {
   "cell_type": "code",
   "execution_count": 245,
   "metadata": {},
   "outputs": [
    {
     "name": "stdout",
     "output_type": "stream",
     "text": [
      "Both ways intersect in 72D.\n"
     ]
    }
   ],
   "source": [
    "for orbit in way_you:\n",
    "    if orbit in way_san:\n",
    "        break\n",
    "print('Both ways intersect in {0}.'.format(orbit))"
   ]
  },
  {
   "cell_type": "markdown",
   "metadata": {},
   "source": [
    "#### Now calculate way from YOU to SAN"
   ]
  },
  {
   "cell_type": "code",
   "execution_count": 251,
   "metadata": {},
   "outputs": [
    {
     "name": "stdout",
     "output_type": "stream",
     "text": [
      "You need 271 orbital transfers to reach Santa.\n"
     ]
    }
   ],
   "source": [
    "way = way_you[1:way_you.index('72D')] + way_san[1:way_san.index('72D')]\n",
    "print('You need {0} orbital transfers to reach Santa.'.format(len(way)))"
   ]
  },
  {
   "cell_type": "code",
   "execution_count": null,
   "metadata": {},
   "outputs": [],
   "source": []
  }
 ],
 "metadata": {
  "kernelspec": {
   "display_name": "Python 3",
   "language": "python",
   "name": "python3"
  },
  "language_info": {
   "codemirror_mode": {
    "name": "ipython",
    "version": 3
   },
   "file_extension": ".py",
   "mimetype": "text/x-python",
   "name": "python",
   "nbconvert_exporter": "python",
   "pygments_lexer": "ipython3",
   "version": "3.6.4"
  }
 },
 "nbformat": 4,
 "nbformat_minor": 2
}
