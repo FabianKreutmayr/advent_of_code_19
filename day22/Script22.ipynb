{
 "cells": [
  {
   "cell_type": "markdown",
   "metadata": {},
   "source": [
    "# Puzzle 1: Slam shuffle - position of card 2019"
   ]
  },
  {
   "cell_type": "markdown",
   "metadata": {},
   "source": [
    "### deal with new deck; N cut; increment N"
   ]
  },
  {
   "cell_type": "code",
   "execution_count": 1,
   "metadata": {},
   "outputs": [],
   "source": [
    "import numpy as np\n",
    "from copy import deepcopy"
   ]
  },
  {
   "cell_type": "markdown",
   "metadata": {},
   "source": [
    "## Load input"
   ]
  },
  {
   "cell_type": "code",
   "execution_count": 73,
   "metadata": {},
   "outputs": [],
   "source": [
    "with open('./input22.txt', 'r') as file:\n",
    "\n",
    "    data = file.readlines()"
   ]
  },
  {
   "cell_type": "code",
   "execution_count": 74,
   "metadata": {},
   "outputs": [],
   "source": [
    "data = [x.split() for x in data]"
   ]
  },
  {
   "cell_type": "code",
   "execution_count": 77,
   "metadata": {},
   "outputs": [],
   "source": [
    "class card_play(object):\n",
    "    \n",
    "    def __init__(self, number_cards):\n",
    "        self.deck = np.linspace(0, number_cards-1, number_cards)\n",
    "        \n",
    "    def new_stack(self):\n",
    "        self.deck = self.deck[::-1]\n",
    "    \n",
    "    def cut(self, N):\n",
    "        if N > 0:\n",
    "            temp1 = self.deck[0:N]\n",
    "            temp2 = self.deck[N:]\n",
    "            self.deck = np.append(temp2, temp1)\n",
    "        if N < 0:\n",
    "            temp1 = self.deck[N:]\n",
    "            temp2 = self.deck[0:N]\n",
    "            self.deck = np.append(temp1, temp2)\n",
    "            \n",
    "    def increment(self, N):\n",
    "        temp1 = deepcopy(self.deck)\n",
    "        temp2 = np.zeros(temp1.shape)\n",
    "        i = 0\n",
    "        while len(temp1) > 0:\n",
    "            temp2[i%len(temp2)] = temp1[0]\n",
    "            temp1 = np.delete(temp1, 0)\n",
    "            i += N\n",
    "        self.deck = deepcopy(temp2)\n",
    "        \n",
    "    def card_position(self, N):\n",
    "        return np.where(self.deck == N)[0][0]"
   ]
  },
  {
   "cell_type": "code",
   "execution_count": 78,
   "metadata": {},
   "outputs": [
    {
     "name": "stdout",
     "output_type": "stream",
     "text": [
      "Card 2019 is at position 6978.\n"
     ]
    }
   ],
   "source": [
    "deck = card_play(10007)\n",
    "for operation in data:\n",
    "    if operation[-2] == 'new':\n",
    "        deck.new_stack()\n",
    "    if operation[-2] == 'cut':\n",
    "        deck.cut(int(operation[-1]))\n",
    "    if operation[-2] == 'increment':\n",
    "        deck.increment(int(operation[-1]))\n",
    "\n",
    "print('Card 2019 is at position {0}.'.format(deck.card_position(2019)))"
   ]
  },
  {
   "cell_type": "code",
   "execution_count": null,
   "metadata": {},
   "outputs": [],
   "source": []
  }
 ],
 "metadata": {
  "kernelspec": {
   "display_name": "Python 3",
   "language": "python",
   "name": "python3"
  },
  "language_info": {
   "codemirror_mode": {
    "name": "ipython",
    "version": 3
   },
   "file_extension": ".py",
   "mimetype": "text/x-python",
   "name": "python",
   "nbconvert_exporter": "python",
   "pygments_lexer": "ipython3",
   "version": "3.6.4"
  }
 },
 "nbformat": 4,
 "nbformat_minor": 2
}
