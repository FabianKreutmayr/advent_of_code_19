{
 "cells": [
  {
   "cell_type": "markdown",
   "metadata": {},
   "source": [
    "# Puzzle 1: Calculate program output"
   ]
  },
  {
   "cell_type": "markdown",
   "metadata": {},
   "source": [
    "### both wires start at the same port; find closest intersection due to the manhattan distance"
   ]
  },
  {
   "cell_type": "code",
   "execution_count": null,
   "metadata": {},
   "outputs": [],
   "source": [
    "import numpy as np"
   ]
  },
  {
   "cell_type": "markdown",
   "metadata": {},
   "source": [
    "## Load input"
   ]
  },
  {
   "cell_type": "code",
   "execution_count": null,
   "metadata": {},
   "outputs": [],
   "source": [
    "with open('./input3.txt', 'r') as file:\n",
    "\n",
    "    data = file.readlines()"
   ]
  },
  {
   "cell_type": "code",
   "execution_count": 3,
   "metadata": {},
   "outputs": [],
   "source": [
    "wire1 = data[0].split(',')\n",
    "wire2 = data[1].split(',')"
   ]
  },
  {
   "cell_type": "markdown",
   "metadata": {},
   "source": [
    "#### Create an example grid"
   ]
  },
  {
   "cell_type": "code",
   "execution_count": 94,
   "metadata": {},
   "outputs": [],
   "source": [
    "testgrid = np.zeros((5, 5))"
   ]
  },
  {
   "cell_type": "code",
   "execution_count": 95,
   "metadata": {},
   "outputs": [
    {
     "data": {
      "text/plain": [
       "array([[0., 0., 0., 0., 0.],\n",
       "       [0., 0., 0., 0., 0.],\n",
       "       [0., 0., 0., 0., 0.],\n",
       "       [0., 0., 0., 0., 0.],\n",
       "       [0., 0., 0., 0., 0.]])"
      ]
     },
     "execution_count": 95,
     "metadata": {},
     "output_type": "execute_result"
    }
   ],
   "source": [
    "testgrid"
   ]
  },
  {
   "cell_type": "code",
   "execution_count": 96,
   "metadata": {},
   "outputs": [],
   "source": [
    "testgrid[3][2:5] += 1"
   ]
  },
  {
   "cell_type": "code",
   "execution_count": 97,
   "metadata": {},
   "outputs": [
    {
     "data": {
      "text/plain": [
       "array([[0., 0., 0., 0., 0.],\n",
       "       [0., 0., 0., 0., 0.],\n",
       "       [0., 0., 0., 0., 0.],\n",
       "       [0., 0., 1., 1., 1.],\n",
       "       [0., 0., 0., 0., 0.]])"
      ]
     },
     "execution_count": 97,
     "metadata": {},
     "output_type": "execute_result"
    }
   ],
   "source": [
    "testgrid"
   ]
  },
  {
   "cell_type": "code",
   "execution_count": 98,
   "metadata": {},
   "outputs": [],
   "source": [
    "testgrid[3][4] = 1"
   ]
  },
  {
   "cell_type": "code",
   "execution_count": 100,
   "metadata": {},
   "outputs": [
    {
     "data": {
      "text/plain": [
       "array([0., 1., 0.])"
      ]
     },
     "execution_count": 100,
     "metadata": {},
     "output_type": "execute_result"
    }
   ],
   "source": [
    "testgrid.T[4][2:5]"
   ]
  },
  {
   "cell_type": "markdown",
   "metadata": {},
   "source": [
    "#### Create the real grid"
   ]
  },
  {
   "cell_type": "code",
   "execution_count": 174,
   "metadata": {},
   "outputs": [],
   "source": [
    "grid = np.zeros((24000, 24000))"
   ]
  },
  {
   "cell_type": "markdown",
   "metadata": {},
   "source": [
    "#### Draw wire 1"
   ]
  },
  {
   "cell_type": "code",
   "execution_count": 175,
   "metadata": {},
   "outputs": [
    {
     "data": {
      "text/plain": [
       "'R1009'"
      ]
     },
     "execution_count": 175,
     "metadata": {},
     "output_type": "execute_result"
    }
   ],
   "source": [
    "wire1[0]"
   ]
  },
  {
   "cell_type": "code",
   "execution_count": 176,
   "metadata": {},
   "outputs": [],
   "source": [
    "x = 12000\n",
    "y = 12000\n",
    "\n",
    "grid[y][x] = 1  # initialization of starting point\n",
    "\n",
    "for i in wire1:\n",
    "    if i[0] is 'R':  # steps to the right\n",
    "        step = int(i[1:])\n",
    "        grid[y][x+1:x+step+1] += 1\n",
    "        x += step\n",
    "    if i[0] is 'L':  # steps to the left\n",
    "        step = int(i[1:])\n",
    "        grid[y][x-step:x] += 1\n",
    "        x -= step\n",
    "    if i[0] is 'U':  # steps up\n",
    "        step = int(i[1:])\n",
    "        grid.T[x][y-step:y] += 1\n",
    "        y -= step\n",
    "    if i[0] is 'D':  # steps down\n",
    "        step = int(i[1:])\n",
    "        grid.T[x][y+1:y+step+1] += 1\n",
    "        y += step"
   ]
  },
  {
   "cell_type": "markdown",
   "metadata": {},
   "source": [
    "#### Draw wire 2"
   ]
  },
  {
   "cell_type": "code",
   "execution_count": 177,
   "metadata": {},
   "outputs": [],
   "source": [
    "x = 12000\n",
    "y = 12000\n",
    "\n",
    "for i in wire2:\n",
    "    if i[0] is 'R':  # steps to the right\n",
    "        step = int(i[1:])\n",
    "        grid[y][x+1:x+step+1] += 1\n",
    "        x += step\n",
    "    if i[0] is 'L':  # steps to the left\n",
    "        step = int(i[1:])\n",
    "        grid[y][x-step:x] += 1\n",
    "        x -= step\n",
    "    if i[0] is 'U':  # steps up\n",
    "        step = int(i[1:])\n",
    "        grid.T[x][y-step:y] += 1\n",
    "        y -= step\n",
    "    if i[0] is 'D':  # steps down\n",
    "        step = int(i[1:])\n",
    "        grid.T[x][y+1:y+step+1] += 1\n",
    "        y += step"
   ]
  },
  {
   "cell_type": "markdown",
   "metadata": {},
   "source": [
    "#### find intersections (visitscount > 1)"
   ]
  },
  {
   "cell_type": "code",
   "execution_count": 178,
   "metadata": {},
   "outputs": [],
   "source": [
    "positions = np.argwhere(grid > 1) "
   ]
  },
  {
   "cell_type": "markdown",
   "metadata": {},
   "source": [
    "#### find the closest intersection to starting point 12000, 12000"
   ]
  },
  {
   "cell_type": "code",
   "execution_count": 179,
   "metadata": {},
   "outputs": [],
   "source": [
    "closest = np.min(np.sum(abs(positions - 12000), axis=1))"
   ]
  },
  {
   "cell_type": "code",
   "execution_count": 180,
   "metadata": {},
   "outputs": [
    {
     "name": "stdout",
     "output_type": "stream",
     "text": [
      "The Manhattan distance to the closest intersection is 225.\n"
     ]
    }
   ],
   "source": [
    "print('The Manhattan distance to the closest intersection is {0}.'.format(closest))"
   ]
  },
  {
   "cell_type": "markdown",
   "metadata": {},
   "source": [
    "# Puzzle 2: Search intersection with fewest combined steps"
   ]
  },
  {
   "cell_type": "markdown",
   "metadata": {},
   "source": [
    "#### Walk along wire 1 and find the distance to any intersection"
   ]
  },
  {
   "cell_type": "code",
   "execution_count": 394,
   "metadata": {},
   "outputs": [],
   "source": [
    "interdict1 = dict()\n",
    "for i in positions:\n",
    "    interdict1['{0}, {1}'.format(i[0], i[1])] = 0  # dict for any intersection of wire 1"
   ]
  },
  {
   "cell_type": "code",
   "execution_count": 416,
   "metadata": {
    "scrolled": true
   },
   "outputs": [],
   "source": [
    "x = 12000\n",
    "y = 12000\n",
    "\n",
    "stepcount = 0  # initialize stepcounter\n",
    "\n",
    "for i in wire1:\n",
    "    if i[0] is 'R':  # steps to the right\n",
    "        step = int(i[1:])        \n",
    "        for j in np.where(grid[y][x+1:x+step+1] > 1)[0]:\n",
    "            if interdict1['{0}, {1}'.format(y, x+j+1)] == 0:\n",
    "                interdict1['{0}, {1}'.format(y, x+j+1)] += (stepcount + j + 1)\n",
    "        x += step\n",
    "        stepcount += step\n",
    "    if i[0] is 'L':  # steps to the left\n",
    "        step = int(i[1:])\n",
    "        for j in np.where(grid[y][x-step:x+1] > 1)[0]:\n",
    "            if interdict1['{0}, {1}'.format(y, x-(step-j))] == 0:\n",
    "                interdict1['{0}, {1}'.format(y, x-(step-j))] += (stepcount + (step-j))\n",
    "        x -= step\n",
    "        stepcount += step\n",
    "    if i[0] is 'U':  # steps up\n",
    "        step = int(i[1:])\n",
    "        for j in np.where(grid.T[x][y-step:y+1] > 1)[0]:\n",
    "            if interdict1['{0}, {1}'.format(y-(step-j), x)] == 0:\n",
    "                interdict1['{0}, {1}'.format(y-(step-j), x)] += (stepcount + (step-j))             \n",
    "        y -= step\n",
    "        stepcount += step\n",
    "    if i[0] is 'D':  # steps down\n",
    "        step = int(i[1:])\n",
    "        for j in np.where(grid.T[x][y+1:y+step+1] > 1)[0]:\n",
    "            if interdict1['{0}, {1}'.format(y+j+1, x)] == 0:\n",
    "                interdict1['{0}, {1}'.format(y+j+1, x)] += (stepcount + j+1)\n",
    "        y += step\n",
    "        stepcount += step"
   ]
  },
  {
   "cell_type": "markdown",
   "metadata": {},
   "source": [
    "#### Walk along wire 2 and find the distance to any intersection"
   ]
  },
  {
   "cell_type": "code",
   "execution_count": 396,
   "metadata": {},
   "outputs": [],
   "source": [
    "interdict2 = dict()\n",
    "for i in positions:\n",
    "    interdict2['{0}, {1}'.format(i[0], i[1])] = 0  # dict for any intersection of wire 2"
   ]
  },
  {
   "cell_type": "code",
   "execution_count": 411,
   "metadata": {
    "scrolled": true
   },
   "outputs": [],
   "source": [
    "x = 12000\n",
    "y = 12000\n",
    "\n",
    "stepcount = 0  # initialize stepcounter\n",
    "\n",
    "for i in wire2:\n",
    "    if i[0] is 'R':  # steps to the right\n",
    "        step = int(i[1:])        \n",
    "        for j in np.where(grid[y][x+1:x+step+1] > 1)[0]:\n",
    "            if interdict2['{0}, {1}'.format(y, x+j+1)] == 0:\n",
    "                interdict2['{0}, {1}'.format(y, x+j+1)] += (stepcount + j + 1)\n",
    "        x += step\n",
    "        stepcount += step\n",
    "    if i[0] is 'L':  # steps to the left\n",
    "        step = int(i[1:])\n",
    "        for j in np.where(grid[y][x-step:x+1] > 1)[0]:\n",
    "            if interdict2['{0}, {1}'.format(y, x-(step-j))] == 0:\n",
    "                interdict2['{0}, {1}'.format(y, x-(step-j))] += (stepcount + (step-j))\n",
    "        x -= step\n",
    "        stepcount += step\n",
    "    if i[0] is 'U':  # steps up\n",
    "        step = int(i[1:])\n",
    "        for j in np.where(grid.T[x][y-step:y+1] > 1)[0]:\n",
    "            if interdict2['{0}, {1}'.format(y-(step-j), x)] == 0:\n",
    "                interdict2['{0}, {1}'.format(y-(step-j), x)] += (stepcount + (step-j))             \n",
    "        y -= step\n",
    "        stepcount += step\n",
    "    if i[0] is 'D':  # steps down\n",
    "        step = int(i[1:])\n",
    "        for j in np.where(grid.T[x][y+1:y+step+1] > 1)[0]:\n",
    "            if interdict2['{0}, {1}'.format(y+j+1, x)] == 0:\n",
    "                interdict2['{0}, {1}'.format(y+j+1, x)] += (stepcount + j+1)\n",
    "        y += step\n",
    "        stepcount += step"
   ]
  },
  {
   "cell_type": "code",
   "execution_count": 414,
   "metadata": {},
   "outputs": [],
   "source": [
    "solution = 99999999999\n",
    "for i in positions:\n",
    "    if interdict1['{0}, {1}'.format(i[0], i[1])] > 0 and interdict2['{0}, {1}'.format(i[0], i[1])] > 0:\n",
    "        temp1 = interdict1['{0}, {1}'.format(i[0], i[1])] + interdict2['{0}, {1}'.format(i[0], i[1])]\n",
    "        if temp1 < solution:\n",
    "            solution = temp1"
   ]
  },
  {
   "cell_type": "code",
   "execution_count": 415,
   "metadata": {},
   "outputs": [
    {
     "name": "stdout",
     "output_type": "stream",
     "text": [
      "The solution is 35194.\n"
     ]
    }
   ],
   "source": [
    "print('The solution is {0}.'.format(solution))"
   ]
  },
  {
   "cell_type": "code",
   "execution_count": null,
   "metadata": {},
   "outputs": [],
   "source": []
  }
 ],
 "metadata": {
  "kernelspec": {
   "display_name": "Python 3",
   "language": "python",
   "name": "python3"
  },
  "language_info": {
   "codemirror_mode": {
    "name": "ipython",
    "version": 3
   },
   "file_extension": ".py",
   "mimetype": "text/x-python",
   "name": "python",
   "nbconvert_exporter": "python",
   "pygments_lexer": "ipython3",
   "version": "3.6.4"
  }
 },
 "nbformat": 4,
 "nbformat_minor": 2
}
