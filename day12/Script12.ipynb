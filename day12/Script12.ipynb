{
 "cells": [
  {
   "cell_type": "markdown",
   "metadata": {},
   "source": [
    "# Puzzle 1: N-body problem - total system energy"
   ]
  },
  {
   "cell_type": "markdown",
   "metadata": {},
   "source": [
    "### 4 moons (Io, Europa, Ganymede, and Callisto); (x, y, z)-coordinates; gravity changes velocity +1 or -1 (+1 for lower value; -1 for higher value); new coordinates = old_coordinates + velocity; E_p = sum(coord); E_k = sum(vel); E = E_p * E_k"
   ]
  },
  {
   "cell_type": "code",
   "execution_count": 1,
   "metadata": {},
   "outputs": [],
   "source": [
    "import numpy as np\n",
    "from copy import deepcopy\n",
    "from math import gcd"
   ]
  },
  {
   "cell_type": "markdown",
   "metadata": {},
   "source": [
    "## Load input"
   ]
  },
  {
   "cell_type": "code",
   "execution_count": 2,
   "metadata": {},
   "outputs": [],
   "source": [
    "with open('./input12.txt', 'r') as file:\n",
    "\n",
    "    data = file.readlines()"
   ]
  },
  {
   "cell_type": "markdown",
   "metadata": {},
   "source": [
    "#### some data preprocessing"
   ]
  },
  {
   "cell_type": "code",
   "execution_count": 3,
   "metadata": {},
   "outputs": [],
   "source": [
    "data = [x.strip().strip('<').strip('>').split(', ') for x in data]"
   ]
  },
  {
   "cell_type": "code",
   "execution_count": 4,
   "metadata": {},
   "outputs": [],
   "source": [
    "coordinate_list = np.zeros((len(data), len(data[0])))\n",
    "for i, planet in enumerate(data):\n",
    "    for j, coordinate in enumerate(planet):\n",
    "        for k, char in enumerate(coordinate):\n",
    "            if char in ('x', 'y', 'z'):\n",
    "                coordinate_list[i][j] = coordinate[k+2:]\n",
    "                break"
   ]
  },
  {
   "cell_type": "code",
   "execution_count": 5,
   "metadata": {},
   "outputs": [],
   "source": [
    "class moon_simulator(object):\n",
    "    \n",
    "    def __init__(self, coordinate_list):\n",
    "        \n",
    "        self.coordinate_list = coordinate_list\n",
    "        self.velocity_list = np.zeros(coordinate_list.shape)\n",
    "        self.number_planets = len(coordinate_list)\n",
    "        \n",
    "    def step(self):\n",
    "        \n",
    "        for i, coordinates in enumerate(self.coordinate_list):\n",
    "            smaller = (coordinates < np.delete(self.coordinate_list, i, 0)).astype(int)\n",
    "            equal = (coordinates == np.delete(self.coordinate_list, i, 0)).astype(int)\n",
    "            # mapping: y/(num_pl-1) + 2*(num_pl-1) - (num_pl-1)\n",
    "            delta_vel = sum(smaller)*2-(self.number_planets-1)+sum(equal)\n",
    "            self.velocity_list[i] += delta_vel\n",
    "            \n",
    "        self.coordinate_list += self.velocity_list\n",
    "        \n",
    "    def energy(self):\n",
    "        \n",
    "        self.e_p = np.sum(abs(self.coordinate_list), 1)\n",
    "        self.e_k = np.sum(abs(self.velocity_list), 1)\n",
    "        self.e = np.sum(self.e_p*self.e_k)"
   ]
  },
  {
   "cell_type": "code",
   "execution_count": 6,
   "metadata": {},
   "outputs": [
    {
     "name": "stdout",
     "output_type": "stream",
     "text": [
      "The energy of the system after 1000 steps is 7179.0.\n"
     ]
    }
   ],
   "source": [
    "steps = 1000\n",
    "moons = moon_simulator(deepcopy(coordinate_list))\n",
    "for i in range(0, steps):\n",
    "    moons.step()\n",
    "\n",
    "moons.energy()\n",
    "print('The energy of the system after {0} steps is {1}.'.format(steps, moons.e))\n"
   ]
  },
  {
   "cell_type": "markdown",
   "metadata": {},
   "source": [
    "# Puzzle 2: N-body problem - calculate length of period"
   ]
  },
  {
   "cell_type": "markdown",
   "metadata": {},
   "source": [
    "### all the axes are independent, so we can split the system; whole period is the least common multiple of all three periods"
   ]
  },
  {
   "cell_type": "markdown",
   "metadata": {},
   "source": [
    "#### at first, set up a moon simulator for each axis and store the initial state"
   ]
  },
  {
   "cell_type": "code",
   "execution_count": 7,
   "metadata": {},
   "outputs": [],
   "source": [
    "simulator_dict = dict()\n",
    "states_init_dict = dict()\n",
    "for i in range(0, len(coordinate_list[0])):\n",
    "    simulator_dict['{0}'.format(i)] = moon_simulator(deepcopy(coordinate_list[:, i].reshape(-1, 1)))\n",
    "    states_init_dict['{0}'.format(i)] = np.append(simulator_dict['{0}'.format(i)].coordinate_list,\n",
    "                                                 simulator_dict['{0}'.format(i)].velocity_list)"
   ]
  },
  {
   "cell_type": "markdown",
   "metadata": {},
   "source": [
    "#### now, simulate the systems until they reach their initial state and calculate the lcm"
   ]
  },
  {
   "cell_type": "code",
   "execution_count": 8,
   "metadata": {},
   "outputs": [],
   "source": [
    "def lcm(values):\n",
    "    multiple = values[0]\n",
    "    for i in range(1, len(values)):\n",
    "        multiple = multiple*values[i] // gcd(multiple, values[i])\n",
    "    return multiple"
   ]
  },
  {
   "cell_type": "code",
   "execution_count": 9,
   "metadata": {},
   "outputs": [
    {
     "name": "stdout",
     "output_type": "stream",
     "text": [
      "The period length of the system is 428576638953552.\n"
     ]
    }
   ],
   "source": [
    "periods = []\n",
    "for key in simulator_dict.keys():\n",
    "    state = np.zeros(states_init_dict[key].shape)\n",
    "    period = 0\n",
    "    while sum(states_init_dict[key] == state) != len(states_init_dict[key]):\n",
    "        simulator_dict[key].step()\n",
    "        state = np.append(simulator_dict[key].coordinate_list, simulator_dict[key].velocity_list)\n",
    "        period += 1\n",
    "    periods.append(period)\n",
    "print('The period length of the system is {0}.'.format(lcm(periods)))"
   ]
  },
  {
   "cell_type": "code",
   "execution_count": null,
   "metadata": {},
   "outputs": [],
   "source": []
  }
 ],
 "metadata": {
  "kernelspec": {
   "display_name": "Python 3",
   "language": "python",
   "name": "python3"
  },
  "language_info": {
   "codemirror_mode": {
    "name": "ipython",
    "version": 3
   },
   "file_extension": ".py",
   "mimetype": "text/x-python",
   "name": "python",
   "nbconvert_exporter": "python",
   "pygments_lexer": "ipython3",
   "version": "3.6.4"
  }
 },
 "nbformat": 4,
 "nbformat_minor": 2
}
